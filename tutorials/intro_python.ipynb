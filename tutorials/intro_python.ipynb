{
  "cells": [
    {
      "cell_type": "markdown",
      "metadata": {
        "id": "view-in-github",
        "colab_type": "text"
      },
      "source": [
        "<a href=\"https://colab.research.google.com/github/AI4ChemS/CHE-1147/blob/main/intro_python.ipynb\" target=\"_parent\"><img src=\"https://colab.research.google.com/assets/colab-badge.svg\" alt=\"Open In Colab\"/></a>"
      ]
    },
    {
      "cell_type": "markdown",
      "source": [
        "# 🐍 Python Refresher  \n",
        "\n",
        "Welcome to the first tutorial of **CHE1147: Chemical Data Science and Engineering**! 🎉  \n",
        "\n",
        "In this notebook, we’ll do a quick refresher of Python basics.  \n",
        "You’ll need this foundation for everything else we’ll do in the course (data analysis, machine learning, and chemical engineering applications).  \n",
        "\n",
        "---\n",
        "\n",
        "### How to use this notebook:\n",
        "- **Code cells** → run them by pressing `Shift + Enter`.  \n",
        "- **Markdown cells** → contain explanations (like this one).  \n",
        "- You can edit cells, re-run them, and play around.  \n",
        "\n",
        "Let’s start with the most important first step: saying hello. 👋\n"
      ],
      "metadata": {
        "id": "Xp4YAdcG9GJi"
      }
    },
    {
      "cell_type": "markdown",
      "source": [
        "# 0 Coding in 2025!\n",
        "\n",
        "## 🤖 Using Gemini inside Google Colab\n",
        "\n",
        "Colab now integrates with **Gemini**, Google’s large language model.  \n",
        "You can ask Gemini questions about your code directly inside Colab.\n",
        "\n",
        "### How to use it:\n",
        "- Highlight code → Right click → \"Ask Gemini\"  \n",
        "- Or click the **Gemini button (spark icon)** in the sidebar.  \n",
        "- You can ask things like:\n",
        "  - \"Explain why this error happens.\"\n",
        "  - \"Refactor this loop into NumPy vectorized code.\"\n",
        "  - \"Write a docstring and unit tests for this function.\"\n",
        "  - \"Plot this data with seaborn instead of matplotlib.\"\n",
        "\n",
        "---\n",
        "\n",
        "### ✅ Tips for Colab + Gemini\n",
        "- Keep prompts **small and focused** (paste the error or 5–10 lines of code).  \n",
        "- Always **run and test locally** — Gemini may hallucinate APIs.  \n",
        "- Use it to **learn and debug**, not to paste entire assignment solutions.  \n",
        "- Document usage in assignments with an **LLM Usage Note** (same policy as ChatGPT).  \n",
        "\n",
        "---\n",
        "\n",
        "### ⚡ Example Workflow\n",
        "1. Write some code and run it.  \n",
        "2. If you get an error → highlight the cell → \"Ask Gemini\".  \n",
        "3. Copy Gemini’s suggestion back into a new cell.  \n",
        "4. Run again and verify.  \n"
      ],
      "metadata": {
        "id": "LywrGTcTDgxx"
      }
    },
    {
      "cell_type": "code",
      "source": [
        "print(\"Hello CHE1147! 🎉\")"
      ],
      "metadata": {
        "colab": {
          "base_uri": "https://localhost:8080/"
        },
        "id": "ZS3KQb_Q9P3B",
        "outputId": "eaf7bb2a-9ab9-4653-cf1f-a40b8d2c1a54"
      },
      "execution_count": null,
      "outputs": [
        {
          "output_type": "stream",
          "name": "stdout",
          "text": [
            "Hello CHE1147! 🎉\n"
          ]
        }
      ]
    },
    {
      "cell_type": "markdown",
      "source": [
        "✅ Great! If you see `Hello CHE1147! 🎉` above, your Python environment is working.  \n",
        "\n",
        "Next, we’ll dive into Python basics: variables, types, and operations."
      ],
      "metadata": {
        "id": "J19aAnOg9TWa"
      }
    },
    {
      "cell_type": "markdown",
      "source": [
        "# 1. Python Basics\n",
        "\n",
        "In Python, everything is an object — numbers, text, even functions.  \n",
        "We’ll start with some core building blocks:\n",
        "\n",
        "- **Variables**: names that store values.  \n",
        "- **Types**: integers, floats, strings, booleans.  \n",
        "- **Casting**: converting between types.  \n",
        "\n",
        "Let’s play!\n"
      ],
      "metadata": {
        "id": "ZIyClgwK9n6J"
      }
    },
    {
      "cell_type": "code",
      "source": [
        "# Integers\n",
        "atoms = 6\n",
        "print(atoms, type(atoms))\n",
        "\n",
        "# Float (decimal number)\n",
        "molecular_weight = 44.01\n",
        "print(molecular_weight, type(molecular_weight))\n",
        "\n",
        "# String (text)\n",
        "name = \"Carbon Dioxide\"\n",
        "print(name, type(name))\n",
        "\n",
        "# Boolean (True/False)\n",
        "is_gas = True\n",
        "print(is_gas, type(is_gas))"
      ],
      "metadata": {
        "colab": {
          "base_uri": "https://localhost:8080/"
        },
        "id": "5zUSDDBV9t_r",
        "outputId": "30a45540-7979-46e7-8530-d4d6c726a945"
      },
      "execution_count": null,
      "outputs": [
        {
          "output_type": "stream",
          "name": "stdout",
          "text": [
            "6 <class 'int'>\n",
            "44.01 <class 'float'>\n",
            "Carbon Dioxide <class 'str'>\n",
            "True <class 'bool'>\n"
          ]
        }
      ]
    },
    {
      "cell_type": "markdown",
      "source": [
        "Notice how `type(...)` tells us the kind of value a variable holds.  \n",
        "We’ll often move between types, for example when converting numbers to text or rounding floats."
      ],
      "metadata": {
        "id": "lxn-S4vh9y_k"
      }
    },
    {
      "cell_type": "code",
      "source": [
        "# Converting between types\n",
        "grams = \"88.02\"       # stored as string\n",
        "grams_float = float(grams)   # cast to float\n",
        "print(\"Mass in grams:\", grams_float)\n",
        "\n",
        "atoms_str = str(atoms)       # convert int → string\n",
        "print(\"We have \" + atoms_str + \" atoms in our molecule.\")"
      ],
      "metadata": {
        "colab": {
          "base_uri": "https://localhost:8080/"
        },
        "id": "kDgWjLtB9VlX",
        "outputId": "6847476e-18cf-4540-a425-7e7985abc752"
      },
      "execution_count": null,
      "outputs": [
        {
          "output_type": "stream",
          "name": "stdout",
          "text": [
            "Mass in grams: 88.02\n",
            "We have 6 atoms in our molecule.\n"
          ]
        }
      ]
    },
    {
      "cell_type": "markdown",
      "source": [
        "✅ **Mini Exercise**\n",
        "\n",
        "- Define a variable `mass = 88.02` (grams of CO₂).  \n",
        "- Use the molecular weight (MW = 44.01 g/mol) to calculate the number of moles.  \n",
        "- Print the result with a descriptive message.  \n",
        "\n",
        "Hint: moles = mass / MW\n"
      ],
      "metadata": {
        "id": "AcMx9bWB9_5H"
      }
    },
    {
      "cell_type": "code",
      "source": [
        "mass = 88.02       # grams\n",
        "MW = 44.01         # g/mol\n",
        "moles = mass / MW\n",
        "print(f\"Mass = {mass} g, MW = {MW} g/mol → {moles:.2f} mol CO₂\")"
      ],
      "metadata": {
        "colab": {
          "base_uri": "https://localhost:8080/"
        },
        "id": "Q8xm0DxL-E_6",
        "outputId": "ed4034cc-1959-436c-8b40-5a98a2de8ac8"
      },
      "execution_count": null,
      "outputs": [
        {
          "output_type": "stream",
          "name": "stdout",
          "text": [
            "Mass = 88.02 g, MW = 44.01 g/mol → 2.00 mol CO₂\n"
          ]
        }
      ]
    },
    {
      "cell_type": "markdown",
      "source": [
        "# 2. Collections\n",
        "\n",
        "Often we need to store **multiple values** in one variable.  \n",
        "Python gives us several **collection types**:\n",
        "\n",
        "- **List** → ordered, changeable (`[]`)  \n",
        "- **Tuple** → ordered, unchangeable (`()`)  \n",
        "- **Dictionary** → key–value pairs (`{}`)  \n",
        "\n",
        "Let’s see how each works.\n"
      ],
      "metadata": {
        "id": "EMsDRiEC--LW"
      }
    },
    {
      "cell_type": "markdown",
      "source": [
        "### Lists\n",
        "\n",
        "- Created with square brackets `[]`  \n",
        "- Can store numbers, strings, or even other lists  \n",
        "- We can **index** items (`list[0]`)  \n",
        "- We can **slice** (`list[1:3]`)  \n",
        "- We can **append** or modify items"
      ],
      "metadata": {
        "id": "agfiSq8o_N-y"
      }
    },
    {
      "cell_type": "code",
      "source": [
        "# Example: list of atom symbols in CO2\n",
        "atoms = [\"C\", \"O\", \"O\"]\n",
        "\n",
        "print(\"Atoms:\", atoms)\n",
        "print(\"First atom:\", atoms[0])       # indexing\n",
        "print(\"Last atom:\", atoms[-1])      # negative indexing\n",
        "print(\"Slice:\", atoms[0:2])         # slicing\n",
        "\n",
        "# Lists are mutable: we can change them\n",
        "atoms.append(\"O\")  # add another O\n",
        "print(\"Modified atoms:\", atoms)\n"
      ],
      "metadata": {
        "colab": {
          "base_uri": "https://localhost:8080/"
        },
        "id": "h4v8Tpiw_Qcq",
        "outputId": "83a1bc4b-b239-4187-b701-92690a769ca9"
      },
      "execution_count": null,
      "outputs": [
        {
          "output_type": "stream",
          "name": "stdout",
          "text": [
            "Atoms: ['C', 'O', 'O']\n",
            "First atom: C\n",
            "Last atom: O\n",
            "Slice: ['C', 'O']\n",
            "Modified atoms: ['C', 'O', 'O', 'O']\n"
          ]
        }
      ]
    },
    {
      "cell_type": "markdown",
      "source": [
        "### Tuples\n",
        "\n",
        "- Created with parentheses `()`  \n",
        "- Similar to lists, but **immutable** (cannot be changed)  \n",
        "- Useful when you want data to stay fixed"
      ],
      "metadata": {
        "id": "q5mu13Ws_SvI"
      }
    },
    {
      "cell_type": "code",
      "source": [
        "# Example: critical point of CO2 (T, P)\n",
        "critical_point = (304.2, 73.8)  # Kelvin, bar\n",
        "\n",
        "print(\"Critical point (T, P):\", critical_point)\n",
        "\n",
        "# Tuples are immutable:\n",
        "# critical_point[0] = 310  # ❌ will give an error\n"
      ],
      "metadata": {
        "colab": {
          "base_uri": "https://localhost:8080/"
        },
        "id": "tKW-n8Ow_Upq",
        "outputId": "ffadd4ea-c11b-458d-ff8b-27c48035c637"
      },
      "execution_count": null,
      "outputs": [
        {
          "output_type": "stream",
          "name": "stdout",
          "text": [
            "Critical point (T, P): (304.2, 73.8)\n"
          ]
        }
      ]
    },
    {
      "cell_type": "markdown",
      "source": [
        "### Dictionaries\n",
        "\n",
        "- Created with curly braces `{}`  \n",
        "- Store data as **key–value pairs**  \n",
        "- Keys are unique identifiers, values hold the data  \n"
      ],
      "metadata": {
        "id": "Uet9fKhx_Xfm"
      }
    },
    {
      "cell_type": "code",
      "source": [
        "# Example: properties of CO2\n",
        "CO2 = {\n",
        "    \"name\": \"Carbon Dioxide\",\n",
        "    \"MW\": 44.01,\n",
        "    \"critical_T\": 304.2,   # K\n",
        "    \"critical_P\": 73.8,    # bar\n",
        "    \"atoms\": [\"C\", \"O\", \"O\"]\n",
        "}\n",
        "\n",
        "print(\"Molecule name:\", CO2[\"name\"])\n",
        "print(\"Molecular weight:\", CO2[\"MW\"])\n",
        "print(\"Atoms:\", CO2[\"atoms\"])\n"
      ],
      "metadata": {
        "colab": {
          "base_uri": "https://localhost:8080/"
        },
        "id": "IDnSW_EH_XUh",
        "outputId": "78ae4286-f46e-4e77-b92c-3c796deaa882"
      },
      "execution_count": null,
      "outputs": [
        {
          "output_type": "stream",
          "name": "stdout",
          "text": [
            "Molecule name: Carbon Dioxide\n",
            "Molecular weight: 44.01\n",
            "Atoms: ['C', 'O', 'O']\n"
          ]
        }
      ]
    },
    {
      "cell_type": "markdown",
      "source": [
        "### Mini Exercise\n",
        "\n",
        "1. Create a list of molecules: `[\"CO2\", \"H2O\", \"CH4\"]`.  \n",
        "2. Turn it into a tuple (so it cannot be changed).  \n",
        "3. Make a dictionary for `\"H2O\"` with:  \n",
        "   - Name: Water  \n",
        "   - MW: 18.02  \n",
        "   - Critical temperature: 647 K  \n",
        "   - Critical pressure: 220 bar  \n",
        "4. Print out the dictionary values.\n"
      ],
      "metadata": {
        "id": "TGswj7_7_cX4"
      }
    },
    {
      "cell_type": "markdown",
      "source": [
        "# 3. Control Flow\n",
        "\n",
        "Control flow lets us **make decisions** and **repeat tasks** in code.  \n",
        "We’ll look at:\n",
        "\n",
        "- `if / elif / else` → conditional logic  \n",
        "- `for` loops → repeat over a sequence (e.g., a list of molecules)  \n",
        "- `while` loops → repeat until a condition is met"
      ],
      "metadata": {
        "id": "Sj6VuGBp-Mka"
      }
    },
    {
      "cell_type": "markdown",
      "source": [
        "### 🟢 If / Elif / Else\n",
        "\n",
        "An **if statement** allows your code to make decisions:  \n",
        "- `if` → run only if a condition is `True`  \n",
        "- `elif` → (else if) add more conditions  \n",
        "- `else` → run if none of the above are true"
      ],
      "metadata": {
        "id": "31-WuxkH-1_3"
      }
    },
    {
      "cell_type": "code",
      "source": [
        "temperature = 350  # Kelvin\n",
        "\n",
        "if temperature < 273:\n",
        "    print(\"The substance is solid ❄️\")\n",
        "elif temperature < 373:\n",
        "    print(\"The substance is liquid 💧\")\n",
        "else:\n",
        "    print(\"The substance is gas 💨\")"
      ],
      "metadata": {
        "colab": {
          "base_uri": "https://localhost:8080/"
        },
        "id": "shR6px7Z-Po0",
        "outputId": "5d442f49-8603-448f-a0ba-352b3af57872"
      },
      "execution_count": null,
      "outputs": [
        {
          "output_type": "stream",
          "name": "stdout",
          "text": [
            "The substance is liquid 💧\n"
          ]
        }
      ]
    },
    {
      "cell_type": "markdown",
      "source": [
        "### 🔁 For Loops\n",
        "\n",
        "A **for loop** repeats code for each element in a sequence (list, string, etc.).  \n",
        "- Use `for item in sequence:`  \n",
        "- Inside the loop, `item` is updated each time.  "
      ],
      "metadata": {
        "id": "0PLmKgb6-6Oh"
      }
    },
    {
      "cell_type": "code",
      "source": [
        "molecules = [\"CO2\", \"H2O\", \"CH4\", \"O2\"]\n",
        "\n",
        "for mol in molecules:\n",
        "    print(\"Analyzing:\", mol)"
      ],
      "metadata": {
        "colab": {
          "base_uri": "https://localhost:8080/"
        },
        "id": "w6yrO4Jc-TO4",
        "outputId": "b219c26a-7ffe-485e-d2d6-9c6c82f737ac"
      },
      "execution_count": null,
      "outputs": [
        {
          "output_type": "stream",
          "name": "stdout",
          "text": [
            "Analyzing: CO2\n",
            "Analyzing: H2O\n",
            "Analyzing: CH4\n",
            "Analyzing: O2\n"
          ]
        }
      ]
    },
    {
      "cell_type": "markdown",
      "source": [
        "### 🔄 While Loops\n",
        "\n",
        "A **while loop** repeats code until a condition becomes false.  \n",
        "⚠️ Be careful: if the condition never becomes false, the loop will run forever!  "
      ],
      "metadata": {
        "id": "1nLMmddc_FLi"
      }
    },
    {
      "cell_type": "code",
      "source": [
        "pressure = 1  # atm\n",
        "while pressure < 5:\n",
        "    print(\"Current pressure:\", pressure, \"atm\")\n",
        "    pressure += 1"
      ],
      "metadata": {
        "colab": {
          "base_uri": "https://localhost:8080/"
        },
        "id": "-n2_7f67-YXO",
        "outputId": "ffe11fbc-2767-43fa-af5b-23a2aae7de86"
      },
      "execution_count": null,
      "outputs": [
        {
          "output_type": "stream",
          "name": "stdout",
          "text": [
            "Current pressure: 1 atm\n",
            "Current pressure: 2 atm\n",
            "Current pressure: 3 atm\n",
            "Current pressure: 4 atm\n"
          ]
        }
      ]
    },
    {
      "cell_type": "markdown",
      "source": [
        "### Mini Exercise\n",
        "\n",
        "Write a loop that goes through the list:\n",
        "\n",
        "```python\n",
        "MWs = [44.01, 18.02, 16.04, 32.00]  # CO2, H2O, CH4, O2"
      ],
      "metadata": {
        "id": "iXUvaPpU-bgy"
      }
    },
    {
      "cell_type": "code",
      "source": [
        "## Your code here"
      ],
      "metadata": {
        "id": "Wh9Qr6TE-Zv6"
      },
      "execution_count": null,
      "outputs": []
    },
    {
      "cell_type": "markdown",
      "source": [
        "Example solution:\n",
        "```python\n",
        "MWs = [44.01, 18.02, 16.04, 32.00]\n",
        "\n",
        "for mw in MWs:\n",
        "    if mw < 20:\n",
        "        print(mw, \"→ Light molecule\")\n",
        "    elif mw < 40:\n",
        "        print(mw, \"→ Medium molecule\")\n",
        "    else:\n",
        "        print(mw, \"→ Heavy molecule\")\n"
      ],
      "metadata": {
        "id": "gui79a0Y-k4f"
      }
    },
    {
      "cell_type": "markdown",
      "source": [
        "# 4. Functions\n",
        "\n",
        "A **function** is a reusable block of code.  \n",
        "Instead of repeating yourself, you can **define once** and **call many times**.\n",
        "\n",
        "- Define with `def`  \n",
        "- Provide **arguments** (inputs)  \n",
        "- Return a value with `return`  \n"
      ],
      "metadata": {
        "id": "6zgbSFud_2Ip"
      }
    },
    {
      "cell_type": "code",
      "source": [
        "# Define a function that greets the user\n",
        "def greet(name):\n",
        "    \"\"\"Print a friendly greeting message.\"\"\"\n",
        "    print(f\"Hello {name}, welcome to CHE1147! 🎉\")\n",
        "\n",
        "# Call the function\n",
        "greet(\"Lya\")\n",
        "greet(\"Mohamad\")\n"
      ],
      "metadata": {
        "colab": {
          "base_uri": "https://localhost:8080/"
        },
        "id": "xIJKLDpI9FrO",
        "outputId": "1a8056d7-5d23-4dfb-9e8e-030c3066cd73"
      },
      "execution_count": null,
      "outputs": [
        {
          "output_type": "stream",
          "name": "stdout",
          "text": [
            "Hello Alice, welcome to CHE1147! 🎉\n",
            "Hello Mohamad, welcome to CHE1147! 🎉\n"
          ]
        }
      ]
    },
    {
      "cell_type": "code",
      "source": [
        "# Function to calculate moles from mass and molecular weight\n",
        "def calc_moles(mass, MW):\n",
        "    \"\"\"\n",
        "    Calculate number of moles given mass (g) and molecular weight (g/mol).\n",
        "    Returns moles (float).\n",
        "    \"\"\"\n",
        "    return mass / MW\n",
        "\n",
        "# Example usage\n",
        "mass = 88.02   # grams\n",
        "MW = 44.01     # g/mol\n",
        "print(f\"Moles of CO2: {calc_moles(mass, MW):.2f} mol\")\n"
      ],
      "metadata": {
        "colab": {
          "base_uri": "https://localhost:8080/"
        },
        "id": "gTTwGc0B__9K",
        "outputId": "0ac45143-48c8-4f67-b12e-298890b49952"
      },
      "execution_count": null,
      "outputs": [
        {
          "output_type": "stream",
          "name": "stdout",
          "text": [
            "Moles of CO2: 2.00 mol\n"
          ]
        }
      ]
    },
    {
      "cell_type": "code",
      "source": [
        "# Function with a default molecular weight\n",
        "def calc_moles_CO2(mass, MW=44.01):\n",
        "    \"\"\"\n",
        "    Calculate number of moles.\n",
        "    By default, uses MW of CO2 (44.01 g/mol).\n",
        "    \"\"\"\n",
        "    return mass / MW\n",
        "\n",
        "print(\"Default (CO2):\", calc_moles_CO2(88.02), \"mol\")\n",
        "print(\"Custom MW (H2O):\", calc_moles_CO2(18.02, MW=18.02), \"mol\")\n"
      ],
      "metadata": {
        "colab": {
          "base_uri": "https://localhost:8080/"
        },
        "id": "zzzeARJzAChk",
        "outputId": "3e63af86-6277-4a98-f3c7-ad22a16a2546"
      },
      "execution_count": null,
      "outputs": [
        {
          "output_type": "stream",
          "name": "stdout",
          "text": [
            "Default (CO2): 2.0 mol\n",
            "Custom MW (H2O): 1.0 mol\n"
          ]
        }
      ]
    },
    {
      "cell_type": "code",
      "source": [
        "# Function that takes a list of (mass, MW) pairs and returns moles\n",
        "def calc_moles_list(masses, MWs):\n",
        "    \"\"\"\n",
        "    Calculate moles for each molecule in lists of masses and MWs.\n",
        "    Returns a list of moles.\n",
        "    \"\"\"\n",
        "    results = []\n",
        "    for m, w in zip(masses, MWs):\n",
        "        results.append(m / w)\n",
        "    return results\n",
        "\n",
        "masses = [88.02, 18.02, 16.04]   # g\n",
        "MWs    = [44.01, 18.02, 16.04]   # g/mol\n",
        "print(\"Moles list:\", calc_moles_list(masses, MWs))\n"
      ],
      "metadata": {
        "colab": {
          "base_uri": "https://localhost:8080/"
        },
        "id": "EolDRqwoAEJQ",
        "outputId": "0f8293fd-3205-44d4-a72d-1dc3bf16d041"
      },
      "execution_count": null,
      "outputs": [
        {
          "output_type": "stream",
          "name": "stdout",
          "text": [
            "Moles list: [2.0, 1.0, 1.0]\n"
          ]
        }
      ]
    },
    {
      "cell_type": "markdown",
      "source": [
        "### Mini Exercise\n",
        "\n",
        "1. Write a function `density(mass, volume)` that returns density (g/cm³).  \n",
        "2. Test it with mass = 10 g and volume = 2 cm³.  \n",
        "3. Extend the function by giving volume a default value of 1 cm³.  \n"
      ],
      "metadata": {
        "id": "WNvgzwymAH9R"
      }
    },
    {
      "cell_type": "markdown",
      "source": [
        "# 5. Modules & Libraries\n",
        "\n",
        "Python is powerful because we can **import modules** (extra functionality).  \n",
        "\n",
        "- `import module` → bring in the whole module  \n",
        "- `from module import function` → bring in just what you need  \n",
        "\n",
        "We’ll use both **standard library modules** (built into Python) and **external libraries** (installed separately, e.g., NumPy, Pandas, Matplotlib).\n"
      ],
      "metadata": {
        "id": "riD87y_3AQJx"
      }
    },
    {
      "cell_type": "code",
      "source": [
        "import math\n",
        "\n",
        "# Using functions from math\n",
        "print(\"Square root of 16:\", math.sqrt(16))\n",
        "print(\"Sine of 30 degrees:\", math.sin(math.radians(30)))\n",
        "print(\"log_e(10):\", math.log(10))"
      ],
      "metadata": {
        "colab": {
          "base_uri": "https://localhost:8080/"
        },
        "id": "QES5yw5LAYuh",
        "outputId": "e8640212-5f0c-4f65-bd7b-1be736a928cb"
      },
      "execution_count": null,
      "outputs": [
        {
          "output_type": "stream",
          "name": "stdout",
          "text": [
            "Square root of 16: 4.0\n",
            "Sine of 30 degrees: 0.49999999999999994\n",
            "log_e(10): 2.302585092994046\n"
          ]
        }
      ]
    },
    {
      "cell_type": "code",
      "source": [
        "import random\n",
        "\n",
        "# Generate random numbers\n",
        "print(\"Random number between 0 and 1:\", random.random())\n",
        "print(\"Random integer between 1 and 10:\", random.randint(1, 10))\n",
        "\n",
        "# Randomly select from a list\n",
        "molecules = [\"CO2\", \"H2O\", \"CH4\", \"O2\"]\n",
        "print(\"Random molecule:\", random.choice(molecules))\n"
      ],
      "metadata": {
        "colab": {
          "base_uri": "https://localhost:8080/"
        },
        "id": "_JSUhVb5AbJG",
        "outputId": "8a8bfc86-cf0c-47cb-81c3-1e55bb577a78"
      },
      "execution_count": null,
      "outputs": [
        {
          "output_type": "stream",
          "name": "stdout",
          "text": [
            "Random number between 0 and 1: 0.05718077822835921\n",
            "Random integer between 1 and 10: 6\n",
            "Random molecule: O2\n"
          ]
        }
      ]
    },
    {
      "cell_type": "markdown",
      "source": [
        "### NumPy\n",
        "\n",
        "NumPy = **Numerical Python**  \n",
        "- Efficient arrays (faster than Python lists)  \n",
        "- Useful for vectorized math, linear algebra, etc."
      ],
      "metadata": {
        "id": "b_j6GYwcAehr"
      }
    },
    {
      "cell_type": "code",
      "source": [
        "import numpy as np\n",
        "\n",
        "# Create arrays\n",
        "arr = np.array([1, 2, 3, 4, 5])\n",
        "print(\"Array:\", arr)\n",
        "\n",
        "# Math operations\n",
        "print(\"Array * 2:\", arr * 2)\n",
        "print(\"Array squared:\", arr ** 2)\n",
        "\n",
        "# Statistics\n",
        "print(\"Mean:\", arr.mean())\n",
        "print(\"Standard deviation:\", arr.std())\n"
      ],
      "metadata": {
        "colab": {
          "base_uri": "https://localhost:8080/"
        },
        "id": "s9gXTz-NAdIH",
        "outputId": "04db0dff-5ddd-47c1-8f46-ca905f50fa69"
      },
      "execution_count": null,
      "outputs": [
        {
          "output_type": "stream",
          "name": "stdout",
          "text": [
            "Array: [1 2 3 4 5]\n",
            "Array * 2: [ 2  4  6  8 10]\n",
            "Array squared: [ 1  4  9 16 25]\n",
            "Mean: 3.0\n",
            "Standard deviation: 1.4142135623730951\n"
          ]
        }
      ]
    },
    {
      "cell_type": "code",
      "source": [
        "import matplotlib.pyplot as plt\n",
        "\n",
        "# Create x values from 0 to 2π\n",
        "x = np.linspace(0, 2*np.pi, 100)\n",
        "y = np.sin(x)\n",
        "\n",
        "plt.plot(x, y, label=\"sin(x)\")\n",
        "plt.xlabel(\"x\")\n",
        "plt.ylabel(\"sin(x)\")\n",
        "plt.title(\"Simple Sine Wave\")\n",
        "plt.legend()\n",
        "plt.show()\n"
      ],
      "metadata": {
        "colab": {
          "base_uri": "https://localhost:8080/",
          "height": 472
        },
        "id": "fZJ11GGVAk2x",
        "outputId": "72a6b4fd-617a-4f09-9993-f3548421b4ec"
      },
      "execution_count": null,
      "outputs": [
        {
          "output_type": "display_data",
          "data": {
            "text/plain": [
              "<Figure size 640x480 with 1 Axes>"
            ],
            "image/png": "[encoded data removed]"
          },
          "metadata": {}
        }
      ]
    },
    {
      "cell_type": "markdown",
      "source": [
        "### Mini Exercise\n",
        "\n",
        "1. Use the `math` module to compute the factorial of 5.  \n",
        "2. Use the `random` module to simulate rolling a 6-sided die 5 times.  \n",
        "3. Use NumPy to create an array of molecular weights `[44.01, 18.02, 16.04, 32.00]` and calculate:\n",
        "   - The mean MW  \n",
        "   - The maximum MW  \n"
      ],
      "metadata": {
        "id": "5sedzqv5AR0j"
      }
    },
    {
      "cell_type": "markdown",
      "source": [
        "### 📦 Installing Packages\n",
        "\n",
        "Not all libraries come with Python by default.  \n",
        "We often need to install them first:\n",
        "\n",
        "- With **pip** (Python’s built-in package manager):  \n",
        "  ```bash\n",
        "  pip install numpy\n",
        "\n",
        "- With conda (if you’re using Anaconda/Miniconda):\n",
        "  ```bash\n",
        "  conda install numpy\n",
        "\n"
      ],
      "metadata": {
        "id": "idzKErLZA_Bh"
      }
    },
    {
      "cell_type": "markdown",
      "source": [
        "### 📦 Installing Packages *inside Jupyter Notebooks*\n",
        "\n",
        "You don’t always need to leave Jupyter to install a package.  \n",
        "Just add a `!` (for shell command) or `%pip install` (magic command) in a code cell:\n",
        "\n",
        "- Using pip:\n",
        "```python\n",
        "!pip install numpy\n"
      ],
      "metadata": {
        "id": "yUQ53lkNBgr4"
      }
    },
    {
      "cell_type": "markdown",
      "source": [
        "### 📦 Installing Packages on Google Colab\n",
        "\n",
        "Google Colab already includes many packages (NumPy, Pandas, Matplotlib, Scikit-learn, etc.).  \n",
        "But for chemistry/engineering libraries (like `rdkit`, `chemprop`, or `pyarrow`), you’ll need to install them manually.\n",
        "\n",
        "Use `!pip install` just like in Jupyter:\n",
        "\n",
        "```python\n",
        "!pip install rdkit-pypi\n"
      ],
      "metadata": {
        "id": "km93zpbhB4rx"
      }
    },
    {
      "cell_type": "markdown",
      "source": [
        "### ✅ Mini Exercise\n",
        "\n",
        "1. Try running the code above for a package like `pandas` or `seaborn`.  \n",
        "2. If it fails, install it with pip or conda.  \n",
        "3. Once installed, import it and check the version:\n",
        "\n",
        "```python\n",
        "import pandas as pd\n",
        "print(pd.__version__)\n"
      ],
      "metadata": {
        "id": "w-ZMXuKFBQNU"
      }
    },
    {
      "cell_type": "markdown",
      "source": [
        "# 6. Visualizing and Plotting with Matplotlib\n",
        "\n",
        "Visualization is essential in data science.  \n",
        "We’ll use **Matplotlib**, the standard plotting library in Python.\n",
        "\n",
        "- `plt.plot()` → line plots  \n",
        "- `plt.scatter()` → scatter plots  \n",
        "- `plt.bar()` → bar charts  \n"
      ],
      "metadata": {
        "id": "jL0jS71IB_46"
      }
    },
    {
      "cell_type": "code",
      "source": [
        "import matplotlib.pyplot as plt\n",
        "import numpy as np\n",
        "\n",
        "# Temperature data (K)\n",
        "time = np.arange(0, 10, 1)\n",
        "temperature = [300, 305, 310, 315, 317, 320, 325, 330, 335, 340]\n",
        "\n",
        "plt.plot(time, temperature, marker=\"o\")\n",
        "plt.xlabel(\"Time (s)\")\n",
        "plt.ylabel(\"Temperature (K)\")\n",
        "plt.title(\"Temperature rise over time\")\n",
        "plt.show()"
      ],
      "metadata": {
        "colab": {
          "base_uri": "https://localhost:8080/",
          "height": 472
        },
        "id": "XPPsqDxeCEnt",
        "outputId": "e587ae0a-2ac2-4f2a-9dd3-429a7a9a4e0b"
      },
      "execution_count": null,
      "outputs": [
        {
          "output_type": "display_data",
          "data": {
            "text/plain": [
              "<Figure size 640x480 with 1 Axes>"
            ],
            "image/png": "[encoded data removed]"
          },
          "metadata": {}
        }
      ]
    },
    {
      "cell_type": "code",
      "source": [
        "# scatter plot\n",
        "\n",
        "molecules = [\"CO2\", \"H2O\", \"CH4\", \"O2\"]\n",
        "MW = [44.01, 18.02, 16.04, 32.00]        # g/mol\n",
        "boiling_points = [-78.5, 100, -161.5, -183.0]  # °C\n",
        "\n",
        "plt.scatter(MW, boiling_points, color=\"red\")\n",
        "\n",
        "for i, mol in enumerate(molecules):\n",
        "    plt.text(MW[i] + 0.5, boiling_points[i], mol)\n",
        "\n",
        "plt.xlabel(\"Molecular Weight (g/mol)\")\n",
        "plt.ylabel(\"Boiling Point (°C)\")\n",
        "plt.title(\"Molecular Weight vs Boiling Point\")\n",
        "plt.grid(True)\n",
        "plt.show()\n"
      ],
      "metadata": {
        "colab": {
          "base_uri": "https://localhost:8080/",
          "height": 472
        },
        "id": "1afibeviCH2d",
        "outputId": "1582fc91-03f3-44bf-ddae-93fa92802e1f"
      },
      "execution_count": null,
      "outputs": [
        {
          "output_type": "display_data",
          "data": {
            "text/plain": [
              "<Figure size 640x480 with 1 Axes>"
            ],
            "image/png": "[encoded data removed]"
          },
          "metadata": {}
        }
      ]
    },
    {
      "cell_type": "code",
      "source": [
        "# Bar plot\n",
        "\n",
        "molecules = [\"CO2\", \"H2O\", \"CH4\"]\n",
        "critical_T = [304.2, 647.0, 190.6]  # Kelvin\n",
        "\n",
        "plt.bar(molecules, critical_T, color=[\"green\", \"blue\", \"orange\"])\n",
        "plt.ylabel(\"Critical Temperature (K)\")\n",
        "plt.title(\"Critical Temperatures of Selected Molecules\")\n",
        "plt.show()"
      ],
      "metadata": {
        "colab": {
          "base_uri": "https://localhost:8080/",
          "height": 452
        },
        "id": "K7dfuhuOCKxI",
        "outputId": "cd229e91-d0e3-469f-b38f-e209b8b2e00d"
      },
      "execution_count": null,
      "outputs": [
        {
          "output_type": "display_data",
          "data": {
            "text/plain": [
              "<Figure size 640x480 with 1 Axes>"
            ],
            "image/png": "[encoded data removed]"
          },
          "metadata": {}
        }
      ]
    },
    {
      "cell_type": "markdown",
      "source": [
        "### Mini Exercise\n",
        "\n",
        "1. Create a list of pressures `[1, 2, 3, 4, 5]` (atm).  \n",
        "2. Compute volumes using the ideal gas law at T = 298 K, n = 1 mol, R = 0.08206 L·atm/(mol·K).  \n",
        "   \\[\n",
        "   V = \\frac{nRT}{P}\n",
        "   \\]  \n",
        "3. Plot `P` vs `V` as a scatter plot with a line connecting the points.  \n",
        "4. Label the axes and add a title.\n"
      ],
      "metadata": {
        "id": "ve5zp5YGCSV4"
      }
    },
    {
      "cell_type": "markdown",
      "source": [
        "# 7. Working with Data (Pandas Intro)\n",
        "\n",
        "[Pandas](https://pandas.pydata.org/) is the go-to library for working with data in Python.  \n",
        "\n",
        "- **DataFrame** = table (like Excel, but more powerful)  \n",
        "- **Series** = a single column of data  \n"
      ],
      "metadata": {
        "id": "4l2EvlvQCp5G"
      }
    },
    {
      "cell_type": "code",
      "source": [
        "import pandas as pd\n",
        "\n",
        "# Example: simple molecular dataset\n",
        "data = {\n",
        "    \"Molecule\": [\"CO2\", \"H2O\", \"CH4\", \"O2\"],\n",
        "    \"MW (g/mol)\": [44.01, 18.02, 16.04, 32.00],\n",
        "    \"Boiling Point (°C)\": [-78.5, 100, -161.5, -183.0],\n",
        "    \"Critical Temp (K)\": [304.2, 647.0, 190.6, 154.6]\n",
        "}\n",
        "\n",
        "df = pd.DataFrame(data)\n",
        "df\n"
      ],
      "metadata": {
        "colab": {
          "base_uri": "https://localhost:8080/",
          "height": 175
        },
        "id": "25G-ZKVRAGQj",
        "outputId": "ba83b964-345a-4478-cb1a-4a81ba673ff8"
      },
      "execution_count": null,
      "outputs": [
        {
          "output_type": "execute_result",
          "data": {
            "text/plain": [
              "  Molecule  MW (g/mol)  Boiling Point (°C)  Critical Temp (K)\n",
              "0      CO2       44.01               -78.5              304.2\n",
              "1      H2O       18.02               100.0              647.0\n",
              "2      CH4       16.04              -161.5              190.6\n",
              "3       O2       32.00              -183.0              154.6"
            ],
            "text/html": [
              "\n",
              "  <div id=\"df-2220efd7-7008-40c3-9215-33efe8848968\" class=\"colab-df-container\">\n",
              "    <div>\n",
              "<style scoped>\n",
              "    .dataframe tbody tr th:only-of-type {\n",
              "        vertical-align: middle;\n",
              "    }\n",
              "\n",
              "    .dataframe tbody tr th {\n",
              "        vertical-align: top;\n",
              "    }\n",
              "\n",
              "    .dataframe thead th {\n",
              "        text-align: right;\n",
              "    }\n",
              "</style>\n",
              "<table border=\"1\" class=\"dataframe\">\n",
              "  <thead>\n",
              "    <tr style=\"text-align: right;\">\n",
              "      <th></th>\n",
              "      <th>Molecule</th>\n",
              "      <th>MW (g/mol)</th>\n",
              "      <th>Boiling Point (°C)</th>\n",
              "      <th>Critical Temp (K)</th>\n",
              "    </tr>\n",
              "  </thead>\n",
              "  <tbody>\n",
              "    <tr>\n",
              "      <th>0</th>\n",
              "      <td>CO2</td>\n",
              "      <td>44.01</td>\n",
              "      <td>-78.5</td>\n",
              "      <td>304.2</td>\n",
              "    </tr>\n",
              "    <tr>\n",
              "      <th>1</th>\n",
              "      <td>H2O</td>\n",
              "      <td>18.02</td>\n",
              "      <td>100.0</td>\n",
              "      <td>647.0</td>\n",
              "    </tr>\n",
              "    <tr>\n",
              "      <th>2</th>\n",
              "      <td>CH4</td>\n",
              "      <td>16.04</td>\n",
              "      <td>-161.5</td>\n",
              "      <td>190.6</td>\n",
              "    </tr>\n",
              "    <tr>\n",
              "      <th>3</th>\n",
              "      <td>O2</td>\n",
              "      <td>32.00</td>\n",
              "      <td>-183.0</td>\n",
              "      <td>154.6</td>\n",
              "    </tr>\n",
              "  </tbody>\n",
              "</table>\n",
              "</div>\n",
              "    <div class=\"colab-df-buttons\">\n",
              "\n",
              "  <div class=\"colab-df-container\">\n",
              "    <button class=\"colab-df-convert\" onclick=\"convertToInteractive('df-2220efd7-7008-40c3-9215-33efe8848968')\"\n",
              "            title=\"Convert this dataframe to an interactive table.\"\n",
              "            style=\"display:none;\">\n",
              "\n",
              "  <svg xmlns=\"http://www.w3.org/2000/svg\" height=\"24px\" viewBox=\"0 -960 960 960\">\n",
              "    <path d=\"M120-120v-720h720v720H120Zm60-500h600v-160H180v160Zm220 220h160v-160H400v160Zm0 220h160v-160H400v160ZM180-400h160v-160H180v160Zm440 0h160v-160H620v160ZM180-180h160v-160H180v160Zm440 0h160v-160H620v160Z\"/>\n",
              "  </svg>\n",
              "    </button>\n",
              "\n",
              "  <style>\n",
              "    .colab-df-container {\n",
              "      display:flex;\n",
              "      gap: 12px;\n",
              "    }\n",
              "\n",
              "    .colab-df-convert {\n",
              "      background-color: #E8F0FE;\n",
              "      border: none;\n",
              "      border-radius: 50%;\n",
              "      cursor: pointer;\n",
              "      display: none;\n",
              "      fill: #1967D2;\n",
              "      height: 32px;\n",
              "      padding: 0 0 0 0;\n",
              "      width: 32px;\n",
              "    }\n",
              "\n",
              "    .colab-df-convert:hover {\n",
              "      background-color: #E2EBFA;\n",
              "      box-shadow: 0px 1px 2px rgba(60, 64, 67, 0.3), 0px 1px 3px 1px rgba(60, 64, 67, 0.15);\n",
              "      fill: #174EA6;\n",
              "    }\n",
              "\n",
              "    .colab-df-buttons div {\n",
              "      margin-bottom: 4px;\n",
              "    }\n",
              "\n",
              "    [theme=dark] .colab-df-convert {\n",
              "      background-color: #3B4455;\n",
              "      fill: #D2E3FC;\n",
              "    }\n",
              "\n",
              "    [theme=dark] .colab-df-convert:hover {\n",
              "      background-color: #434B5C;\n",
              "      box-shadow: 0px 1px 3px 1px rgba(0, 0, 0, 0.15);\n",
              "      filter: drop-shadow(0px 1px 2px rgba(0, 0, 0, 0.3));\n",
              "      fill: #FFFFFF;\n",
              "    }\n",
              "  </style>\n",
              "\n",
              "    <script>\n",
              "      const buttonEl =\n",
              "        document.querySelector('#df-2220efd7-7008-40c3-9215-33efe8848968 button.colab-df-convert');\n",
              "      buttonEl.style.display =\n",
              "        google.colab.kernel.accessAllowed ? 'block' : 'none';\n",
              "\n",
              "      async function convertToInteractive(key) {\n",
              "        const element = document.querySelector('#df-2220efd7-7008-40c3-9215-33efe8848968');\n",
              "        const dataTable =\n",
              "          await google.colab.kernel.invokeFunction('convertToInteractive',\n",
              "                                                    [key], {});\n",
              "        if (!dataTable) return;\n",
              "\n",
              "        const docLinkHtml = 'Like what you see? Visit the ' +\n",
              "          '<a target=\"_blank\" href=https://colab.research.google.com/notebooks/data_table.ipynb>data table notebook</a>'\n",
              "          + ' to learn more about interactive tables.';\n",
              "        element.innerHTML = '';\n",
              "        dataTable['output_type'] = 'display_data';\n",
              "        await google.colab.output.renderOutput(dataTable, element);\n",
              "        const docLink = document.createElement('div');\n",
              "        docLink.innerHTML = docLinkHtml;\n",
              "        element.appendChild(docLink);\n",
              "      }\n",
              "    </script>\n",
              "  </div>\n",
              "\n",
              "\n",
              "    <div id=\"df-d173377f-a958-445a-9c15-25eca5aa72db\">\n",
              "      <button class=\"colab-df-quickchart\" onclick=\"quickchart('df-d173377f-a958-445a-9c15-25eca5aa72db')\"\n",
              "                title=\"Suggest charts\"\n",
              "                style=\"display:none;\">\n",
              "\n",
              "<svg xmlns=\"http://www.w3.org/2000/svg\" height=\"24px\"viewBox=\"0 0 24 24\"\n",
              "     width=\"24px\">\n",
              "    <g>\n",
              "        <path d=\"M19 3H5c-1.1 0-2 .9-2 2v14c0 1.1.9 2 2 2h14c1.1 0 2-.9 2-2V5c0-1.1-.9-2-2-2zM9 17H7v-7h2v7zm4 0h-2V7h2v10zm4 0h-2v-4h2v4z\"/>\n",
              "    </g>\n",
              "</svg>\n",
              "      </button>\n",
              "\n",
              "<style>\n",
              "  .colab-df-quickchart {\n",
              "      --bg-color: #E8F0FE;\n",
              "      --fill-color: #1967D2;\n",
              "      --hover-bg-color: #E2EBFA;\n",
              "      --hover-fill-color: #174EA6;\n",
              "      --disabled-fill-color: #AAA;\n",
              "      --disabled-bg-color: #DDD;\n",
              "  }\n",
              "\n",
              "  [theme=dark] .colab-df-quickchart {\n",
              "      --bg-color: #3B4455;\n",
              "      --fill-color: #D2E3FC;\n",
              "      --hover-bg-color: #434B5C;\n",
              "      --hover-fill-color: #FFFFFF;\n",
              "      --disabled-bg-color: #3B4455;\n",
              "      --disabled-fill-color: #666;\n",
              "  }\n",
              "\n",
              "  .colab-df-quickchart {\n",
              "    background-color: var(--bg-color);\n",
              "    border: none;\n",
              "    border-radius: 50%;\n",
              "    cursor: pointer;\n",
              "    display: none;\n",
              "    fill: var(--fill-color);\n",
              "    height: 32px;\n",
              "    padding: 0;\n",
              "    width: 32px;\n",
              "  }\n",
              "\n",
              "  .colab-df-quickchart:hover {\n",
              "    background-color: var(--hover-bg-color);\n",
              "    box-shadow: 0 1px 2px rgba(60, 64, 67, 0.3), 0 1px 3px 1px rgba(60, 64, 67, 0.15);\n",
              "    fill: var(--button-hover-fill-color);\n",
              "  }\n",
              "\n",
              "  .colab-df-quickchart-complete:disabled,\n",
              "  .colab-df-quickchart-complete:disabled:hover {\n",
              "    background-color: var(--disabled-bg-color);\n",
              "    fill: var(--disabled-fill-color);\n",
              "    box-shadow: none;\n",
              "  }\n",
              "\n",
              "  .colab-df-spinner {\n",
              "    border: 2px solid var(--fill-color);\n",
              "    border-color: transparent;\n",
              "    border-bottom-color: var(--fill-color);\n",
              "    animation:\n",
              "      spin 1s steps(1) infinite;\n",
              "  }\n",
              "\n",
              "  @keyframes spin {\n",
              "    0% {\n",
              "      border-color: transparent;\n",
              "      border-bottom-color: var(--fill-color);\n",
              "      border-left-color: var(--fill-color);\n",
              "    }\n",
              "    20% {\n",
              "      border-color: transparent;\n",
              "      border-left-color: var(--fill-color);\n",
              "      border-top-color: var(--fill-color);\n",
              "    }\n",
              "    30% {\n",
              "      border-color: transparent;\n",
              "      border-left-color: var(--fill-color);\n",
              "      border-top-color: var(--fill-color);\n",
              "      border-right-color: var(--fill-color);\n",
              "    }\n",
              "    40% {\n",
              "      border-color: transparent;\n",
              "      border-right-color: var(--fill-color);\n",
              "      border-top-color: var(--fill-color);\n",
              "    }\n",
              "    60% {\n",
              "      border-color: transparent;\n",
              "      border-right-color: var(--fill-color);\n",
              "    }\n",
              "    80% {\n",
              "      border-color: transparent;\n",
              "      border-right-color: var(--fill-color);\n",
              "      border-bottom-color: var(--fill-color);\n",
              "    }\n",
              "    90% {\n",
              "      border-color: transparent;\n",
              "      border-bottom-color: var(--fill-color);\n",
              "    }\n",
              "  }\n",
              "</style>\n",
              "\n",
              "      <script>\n",
              "        async function quickchart(key) {\n",
              "          const quickchartButtonEl =\n",
              "            document.querySelector('#' + key + ' button');\n",
              "          quickchartButtonEl.disabled = true;  // To prevent multiple clicks.\n",
              "          quickchartButtonEl.classList.add('colab-df-spinner');\n",
              "          try {\n",
              "            const charts = await google.colab.kernel.invokeFunction(\n",
              "                'suggestCharts', [key], {});\n",
              "          } catch (error) {\n",
              "            console.error('Error during call to suggestCharts:', error);\n",
              "          }\n",
              "          quickchartButtonEl.classList.remove('colab-df-spinner');\n",
              "          quickchartButtonEl.classList.add('colab-df-quickchart-complete');\n",
              "        }\n",
              "        (() => {\n",
              "          let quickchartButtonEl =\n",
              "            document.querySelector('#df-d173377f-a958-445a-9c15-25eca5aa72db button');\n",
              "          quickchartButtonEl.style.display =\n",
              "            google.colab.kernel.accessAllowed ? 'block' : 'none';\n",
              "        })();\n",
              "      </script>\n",
              "    </div>\n",
              "\n",
              "  <div id=\"id_ce9f566e-c167-491a-be45-54e53223ec6f\">\n",
              "    <style>\n",
              "      .colab-df-generate {\n",
              "        background-color: #E8F0FE;\n",
              "        border: none;\n",
              "        border-radius: 50%;\n",
              "        cursor: pointer;\n",
              "        display: none;\n",
              "        fill: #1967D2;\n",
              "        height: 32px;\n",
              "        padding: 0 0 0 0;\n",
              "        width: 32px;\n",
              "      }\n",
              "\n",
              "      .colab-df-generate:hover {\n",
              "        background-color: #E2EBFA;\n",
              "        box-shadow: 0px 1px 2px rgba(60, 64, 67, 0.3), 0px 1px 3px 1px rgba(60, 64, 67, 0.15);\n",
              "        fill: #174EA6;\n",
              "      }\n",
              "\n",
              "      [theme=dark] .colab-df-generate {\n",
              "        background-color: #3B4455;\n",
              "        fill: #D2E3FC;\n",
              "      }\n",
              "\n",
              "      [theme=dark] .colab-df-generate:hover {\n",
              "        background-color: #434B5C;\n",
              "        box-shadow: 0px 1px 3px 1px rgba(0, 0, 0, 0.15);\n",
              "        filter: drop-shadow(0px 1px 2px rgba(0, 0, 0, 0.3));\n",
              "        fill: #FFFFFF;\n",
              "      }\n",
              "    </style>\n",
              "    <button class=\"colab-df-generate\" onclick=\"generateWithVariable('df')\"\n",
              "            title=\"Generate code using this dataframe.\"\n",
              "            style=\"display:none;\">\n",
              "\n",
              "  <svg xmlns=\"http://www.w3.org/2000/svg\" height=\"24px\"viewBox=\"0 0 24 24\"\n",
              "       width=\"24px\">\n",
              "    <path d=\"M7,19H8.4L18.45,9,17,7.55,7,17.6ZM5,21V16.75L18.45,3.32a2,2,0,0,1,2.83,0l1.4,1.43a1.91,1.91,0,0,1,.58,1.4,1.91,1.91,0,0,1-.58,1.4L9.25,21ZM18.45,9,17,7.55Zm-12,3A5.31,5.31,0,0,0,4.9,8.1,5.31,5.31,0,0,0,1,6.5,5.31,5.31,0,0,0,4.9,4.9,5.31,5.31,0,0,0,6.5,1,5.31,5.31,0,0,0,8.1,4.9,5.31,5.31,0,0,0,12,6.5,5.46,5.46,0,0,0,6.5,12Z\"/>\n",
              "  </svg>\n",
              "    </button>\n",
              "    <script>\n",
              "      (() => {\n",
              "      const buttonEl =\n",
              "        document.querySelector('#id_ce9f566e-c167-491a-be45-54e53223ec6f button.colab-df-generate');\n",
              "      buttonEl.style.display =\n",
              "        google.colab.kernel.accessAllowed ? 'block' : 'none';\n",
              "\n",
              "      buttonEl.onclick = () => {\n",
              "        google.colab.notebook.generateWithVariable('df');\n",
              "      }\n",
              "      })();\n",
              "    </script>\n",
              "  </div>\n",
              "\n",
              "    </div>\n",
              "  </div>\n"
            ],
            "application/vnd.google.colaboratory.intrinsic+json": {
              "type": "dataframe",
              "variable_name": "df",
              "summary": "{\n  \"name\": \"df\",\n  \"rows\": 4,\n  \"fields\": [\n    {\n      \"column\": \"Molecule\",\n      \"properties\": {\n        \"dtype\": \"string\",\n        \"num_unique_values\": 4,\n        \"samples\": [\n          \"H2O\",\n          \"O2\",\n          \"CO2\"\n        ],\n        \"semantic_type\": \"\",\n        \"description\": \"\"\n      }\n    },\n    {\n      \"column\": \"MW (g/mol)\",\n      \"properties\": {\n        \"dtype\": \"number\",\n        \"std\": 13.089829066874783,\n        \"min\": 16.04,\n        \"max\": 44.01,\n        \"num_unique_values\": 4,\n        \"samples\": [\n          18.02,\n          32.0,\n          44.01\n        ],\n        \"semantic_type\": \"\",\n        \"description\": \"\"\n      }\n    },\n    {\n      \"column\": \"Boiling Point (\\u00b0C)\",\n      \"properties\": {\n        \"dtype\": \"number\",\n        \"std\": 128.64842271348166,\n        \"min\": -183.0,\n        \"max\": 100.0,\n        \"num_unique_values\": 4,\n        \"samples\": [\n          100.0,\n          -183.0,\n          -78.5\n        ],\n        \"semantic_type\": \"\",\n        \"description\": \"\"\n      }\n    },\n    {\n      \"column\": \"Critical Temp (K)\",\n      \"properties\": {\n        \"dtype\": \"number\",\n        \"std\": 224.5090347105583,\n        \"min\": 154.6,\n        \"max\": 647.0,\n        \"num_unique_values\": 4,\n        \"samples\": [\n          647.0,\n          154.6,\n          304.2\n        ],\n        \"semantic_type\": \"\",\n        \"description\": \"\"\n      }\n    }\n  ]\n}"
            }
          },
          "metadata": {},
          "execution_count": 24
        }
      ]
    },
    {
      "cell_type": "code",
      "source": [
        "import pandas as pd\n",
        "\n",
        "# Example: simple molecular dataset\n",
        "data = {\n",
        "    \"Molecule\": [\"CO2\", \"H2O\", \"CH4\", \"O2\"],\n",
        "    \"MW (g/mol)\": [44.01, 18.02, 16.04, 32.00],\n",
        "    \"Boiling Point (°C)\": [-78.5, 100, -161.5, -183.0],\n",
        "    \"Critical Temp (K)\": [304.2, 647.0, 190.6, 154.6]\n",
        "}\n",
        "\n",
        "df = pd.DataFrame(data)\n",
        "df\n"
      ],
      "metadata": {
        "colab": {
          "base_uri": "https://localhost:8080/",
          "height": 175
        },
        "id": "tWQmZUIOCwIT",
        "outputId": "debb489a-c323-4f82-ca47-9601bfc58189"
      },
      "execution_count": null,
      "outputs": [
        {
          "output_type": "execute_result",
          "data": {
            "text/plain": [
              "  Molecule  MW (g/mol)  Boiling Point (°C)  Critical Temp (K)\n",
              "0      CO2       44.01               -78.5              304.2\n",
              "1      H2O       18.02               100.0              647.0\n",
              "2      CH4       16.04              -161.5              190.6\n",
              "3       O2       32.00              -183.0              154.6"
            ],
            "text/html": [
              "\n",
              "  <div id=\"df-4ac584d1-6e4f-448a-b5ce-a40c824973c0\" class=\"colab-df-container\">\n",
              "    <div>\n",
              "<style scoped>\n",
              "    .dataframe tbody tr th:only-of-type {\n",
              "        vertical-align: middle;\n",
              "    }\n",
              "\n",
              "    .dataframe tbody tr th {\n",
              "        vertical-align: top;\n",
              "    }\n",
              "\n",
              "    .dataframe thead th {\n",
              "        text-align: right;\n",
              "    }\n",
              "</style>\n",
              "<table border=\"1\" class=\"dataframe\">\n",
              "  <thead>\n",
              "    <tr style=\"text-align: right;\">\n",
              "      <th></th>\n",
              "      <th>Molecule</th>\n",
              "      <th>MW (g/mol)</th>\n",
              "      <th>Boiling Point (°C)</th>\n",
              "      <th>Critical Temp (K)</th>\n",
              "    </tr>\n",
              "  </thead>\n",
              "  <tbody>\n",
              "    <tr>\n",
              "      <th>0</th>\n",
              "      <td>CO2</td>\n",
              "      <td>44.01</td>\n",
              "      <td>-78.5</td>\n",
              "      <td>304.2</td>\n",
              "    </tr>\n",
              "    <tr>\n",
              "      <th>1</th>\n",
              "      <td>H2O</td>\n",
              "      <td>18.02</td>\n",
              "      <td>100.0</td>\n",
              "      <td>647.0</td>\n",
              "    </tr>\n",
              "    <tr>\n",
              "      <th>2</th>\n",
              "      <td>CH4</td>\n",
              "      <td>16.04</td>\n",
              "      <td>-161.5</td>\n",
              "      <td>190.6</td>\n",
              "    </tr>\n",
              "    <tr>\n",
              "      <th>3</th>\n",
              "      <td>O2</td>\n",
              "      <td>32.00</td>\n",
              "      <td>-183.0</td>\n",
              "      <td>154.6</td>\n",
              "    </tr>\n",
              "  </tbody>\n",
              "</table>\n",
              "</div>\n",
              "    <div class=\"colab-df-buttons\">\n",
              "\n",
              "  <div class=\"colab-df-container\">\n",
              "    <button class=\"colab-df-convert\" onclick=\"convertToInteractive('df-4ac584d1-6e4f-448a-b5ce-a40c824973c0')\"\n",
              "            title=\"Convert this dataframe to an interactive table.\"\n",
              "            style=\"display:none;\">\n",
              "\n",
              "  <svg xmlns=\"http://www.w3.org/2000/svg\" height=\"24px\" viewBox=\"0 -960 960 960\">\n",
              "    <path d=\"M120-120v-720h720v720H120Zm60-500h600v-160H180v160Zm220 220h160v-160H400v160Zm0 220h160v-160H400v160ZM180-400h160v-160H180v160Zm440 0h160v-160H620v160ZM180-180h160v-160H180v160Zm440 0h160v-160H620v160Z\"/>\n",
              "  </svg>\n",
              "    </button>\n",
              "\n",
              "  <style>\n",
              "    .colab-df-container {\n",
              "      display:flex;\n",
              "      gap: 12px;\n",
              "    }\n",
              "\n",
              "    .colab-df-convert {\n",
              "      background-color: #E8F0FE;\n",
              "      border: none;\n",
              "      border-radius: 50%;\n",
              "      cursor: pointer;\n",
              "      display: none;\n",
              "      fill: #1967D2;\n",
              "      height: 32px;\n",
              "      padding: 0 0 0 0;\n",
              "      width: 32px;\n",
              "    }\n",
              "\n",
              "    .colab-df-convert:hover {\n",
              "      background-color: #E2EBFA;\n",
              "      box-shadow: 0px 1px 2px rgba(60, 64, 67, 0.3), 0px 1px 3px 1px rgba(60, 64, 67, 0.15);\n",
              "      fill: #174EA6;\n",
              "    }\n",
              "\n",
              "    .colab-df-buttons div {\n",
              "      margin-bottom: 4px;\n",
              "    }\n",
              "\n",
              "    [theme=dark] .colab-df-convert {\n",
              "      background-color: #3B4455;\n",
              "      fill: #D2E3FC;\n",
              "    }\n",
              "\n",
              "    [theme=dark] .colab-df-convert:hover {\n",
              "      background-color: #434B5C;\n",
              "      box-shadow: 0px 1px 3px 1px rgba(0, 0, 0, 0.15);\n",
              "      filter: drop-shadow(0px 1px 2px rgba(0, 0, 0, 0.3));\n",
              "      fill: #FFFFFF;\n",
              "    }\n",
              "  </style>\n",
              "\n",
              "    <script>\n",
              "      const buttonEl =\n",
              "        document.querySelector('#df-4ac584d1-6e4f-448a-b5ce-a40c824973c0 button.colab-df-convert');\n",
              "      buttonEl.style.display =\n",
              "        google.colab.kernel.accessAllowed ? 'block' : 'none';\n",
              "\n",
              "      async function convertToInteractive(key) {\n",
              "        const element = document.querySelector('#df-4ac584d1-6e4f-448a-b5ce-a40c824973c0');\n",
              "        const dataTable =\n",
              "          await google.colab.kernel.invokeFunction('convertToInteractive',\n",
              "                                                    [key], {});\n",
              "        if (!dataTable) return;\n",
              "\n",
              "        const docLinkHtml = 'Like what you see? Visit the ' +\n",
              "          '<a target=\"_blank\" href=https://colab.research.google.com/notebooks/data_table.ipynb>data table notebook</a>'\n",
              "          + ' to learn more about interactive tables.';\n",
              "        element.innerHTML = '';\n",
              "        dataTable['output_type'] = 'display_data';\n",
              "        await google.colab.output.renderOutput(dataTable, element);\n",
              "        const docLink = document.createElement('div');\n",
              "        docLink.innerHTML = docLinkHtml;\n",
              "        element.appendChild(docLink);\n",
              "      }\n",
              "    </script>\n",
              "  </div>\n",
              "\n",
              "\n",
              "    <div id=\"df-4f5f6646-7df1-4d81-91ba-5894f8e5313c\">\n",
              "      <button class=\"colab-df-quickchart\" onclick=\"quickchart('df-4f5f6646-7df1-4d81-91ba-5894f8e5313c')\"\n",
              "                title=\"Suggest charts\"\n",
              "                style=\"display:none;\">\n",
              "\n",
              "<svg xmlns=\"http://www.w3.org/2000/svg\" height=\"24px\"viewBox=\"0 0 24 24\"\n",
              "     width=\"24px\">\n",
              "    <g>\n",
              "        <path d=\"M19 3H5c-1.1 0-2 .9-2 2v14c0 1.1.9 2 2 2h14c1.1 0 2-.9 2-2V5c0-1.1-.9-2-2-2zM9 17H7v-7h2v7zm4 0h-2V7h2v10zm4 0h-2v-4h2v4z\"/>\n",
              "    </g>\n",
              "</svg>\n",
              "      </button>\n",
              "\n",
              "<style>\n",
              "  .colab-df-quickchart {\n",
              "      --bg-color: #E8F0FE;\n",
              "      --fill-color: #1967D2;\n",
              "      --hover-bg-color: #E2EBFA;\n",
              "      --hover-fill-color: #174EA6;\n",
              "      --disabled-fill-color: #AAA;\n",
              "      --disabled-bg-color: #DDD;\n",
              "  }\n",
              "\n",
              "  [theme=dark] .colab-df-quickchart {\n",
              "      --bg-color: #3B4455;\n",
              "      --fill-color: #D2E3FC;\n",
              "      --hover-bg-color: #434B5C;\n",
              "      --hover-fill-color: #FFFFFF;\n",
              "      --disabled-bg-color: #3B4455;\n",
              "      --disabled-fill-color: #666;\n",
              "  }\n",
              "\n",
              "  .colab-df-quickchart {\n",
              "    background-color: var(--bg-color);\n",
              "    border: none;\n",
              "    border-radius: 50%;\n",
              "    cursor: pointer;\n",
              "    display: none;\n",
              "    fill: var(--fill-color);\n",
              "    height: 32px;\n",
              "    padding: 0;\n",
              "    width: 32px;\n",
              "  }\n",
              "\n",
              "  .colab-df-quickchart:hover {\n",
              "    background-color: var(--hover-bg-color);\n",
              "    box-shadow: 0 1px 2px rgba(60, 64, 67, 0.3), 0 1px 3px 1px rgba(60, 64, 67, 0.15);\n",
              "    fill: var(--button-hover-fill-color);\n",
              "  }\n",
              "\n",
              "  .colab-df-quickchart-complete:disabled,\n",
              "  .colab-df-quickchart-complete:disabled:hover {\n",
              "    background-color: var(--disabled-bg-color);\n",
              "    fill: var(--disabled-fill-color);\n",
              "    box-shadow: none;\n",
              "  }\n",
              "\n",
              "  .colab-df-spinner {\n",
              "    border: 2px solid var(--fill-color);\n",
              "    border-color: transparent;\n",
              "    border-bottom-color: var(--fill-color);\n",
              "    animation:\n",
              "      spin 1s steps(1) infinite;\n",
              "  }\n",
              "\n",
              "  @keyframes spin {\n",
              "    0% {\n",
              "      border-color: transparent;\n",
              "      border-bottom-color: var(--fill-color);\n",
              "      border-left-color: var(--fill-color);\n",
              "    }\n",
              "    20% {\n",
              "      border-color: transparent;\n",
              "      border-left-color: var(--fill-color);\n",
              "      border-top-color: var(--fill-color);\n",
              "    }\n",
              "    30% {\n",
              "      border-color: transparent;\n",
              "      border-left-color: var(--fill-color);\n",
              "      border-top-color: var(--fill-color);\n",
              "      border-right-color: var(--fill-color);\n",
              "    }\n",
              "    40% {\n",
              "      border-color: transparent;\n",
              "      border-right-color: var(--fill-color);\n",
              "      border-top-color: var(--fill-color);\n",
              "    }\n",
              "    60% {\n",
              "      border-color: transparent;\n",
              "      border-right-color: var(--fill-color);\n",
              "    }\n",
              "    80% {\n",
              "      border-color: transparent;\n",
              "      border-right-color: var(--fill-color);\n",
              "      border-bottom-color: var(--fill-color);\n",
              "    }\n",
              "    90% {\n",
              "      border-color: transparent;\n",
              "      border-bottom-color: var(--fill-color);\n",
              "    }\n",
              "  }\n",
              "</style>\n",
              "\n",
              "      <script>\n",
              "        async function quickchart(key) {\n",
              "          const quickchartButtonEl =\n",
              "            document.querySelector('#' + key + ' button');\n",
              "          quickchartButtonEl.disabled = true;  // To prevent multiple clicks.\n",
              "          quickchartButtonEl.classList.add('colab-df-spinner');\n",
              "          try {\n",
              "            const charts = await google.colab.kernel.invokeFunction(\n",
              "                'suggestCharts', [key], {});\n",
              "          } catch (error) {\n",
              "            console.error('Error during call to suggestCharts:', error);\n",
              "          }\n",
              "          quickchartButtonEl.classList.remove('colab-df-spinner');\n",
              "          quickchartButtonEl.classList.add('colab-df-quickchart-complete');\n",
              "        }\n",
              "        (() => {\n",
              "          let quickchartButtonEl =\n",
              "            document.querySelector('#df-4f5f6646-7df1-4d81-91ba-5894f8e5313c button');\n",
              "          quickchartButtonEl.style.display =\n",
              "            google.colab.kernel.accessAllowed ? 'block' : 'none';\n",
              "        })();\n",
              "      </script>\n",
              "    </div>\n",
              "\n",
              "  <div id=\"id_665da467-a7a6-4bfd-8207-38f7218692d6\">\n",
              "    <style>\n",
              "      .colab-df-generate {\n",
              "        background-color: #E8F0FE;\n",
              "        border: none;\n",
              "        border-radius: 50%;\n",
              "        cursor: pointer;\n",
              "        display: none;\n",
              "        fill: #1967D2;\n",
              "        height: 32px;\n",
              "        padding: 0 0 0 0;\n",
              "        width: 32px;\n",
              "      }\n",
              "\n",
              "      .colab-df-generate:hover {\n",
              "        background-color: #E2EBFA;\n",
              "        box-shadow: 0px 1px 2px rgba(60, 64, 67, 0.3), 0px 1px 3px 1px rgba(60, 64, 67, 0.15);\n",
              "        fill: #174EA6;\n",
              "      }\n",
              "\n",
              "      [theme=dark] .colab-df-generate {\n",
              "        background-color: #3B4455;\n",
              "        fill: #D2E3FC;\n",
              "      }\n",
              "\n",
              "      [theme=dark] .colab-df-generate:hover {\n",
              "        background-color: #434B5C;\n",
              "        box-shadow: 0px 1px 3px 1px rgba(0, 0, 0, 0.15);\n",
              "        filter: drop-shadow(0px 1px 2px rgba(0, 0, 0, 0.3));\n",
              "        fill: #FFFFFF;\n",
              "      }\n",
              "    </style>\n",
              "    <button class=\"colab-df-generate\" onclick=\"generateWithVariable('df')\"\n",
              "            title=\"Generate code using this dataframe.\"\n",
              "            style=\"display:none;\">\n",
              "\n",
              "  <svg xmlns=\"http://www.w3.org/2000/svg\" height=\"24px\"viewBox=\"0 0 24 24\"\n",
              "       width=\"24px\">\n",
              "    <path d=\"M7,19H8.4L18.45,9,17,7.55,7,17.6ZM5,21V16.75L18.45,3.32a2,2,0,0,1,2.83,0l1.4,1.43a1.91,1.91,0,0,1,.58,1.4,1.91,1.91,0,0,1-.58,1.4L9.25,21ZM18.45,9,17,7.55Zm-12,3A5.31,5.31,0,0,0,4.9,8.1,5.31,5.31,0,0,0,1,6.5,5.31,5.31,0,0,0,4.9,4.9,5.31,5.31,0,0,0,6.5,1,5.31,5.31,0,0,0,8.1,4.9,5.31,5.31,0,0,0,12,6.5,5.46,5.46,0,0,0,6.5,12Z\"/>\n",
              "  </svg>\n",
              "    </button>\n",
              "    <script>\n",
              "      (() => {\n",
              "      const buttonEl =\n",
              "        document.querySelector('#id_665da467-a7a6-4bfd-8207-38f7218692d6 button.colab-df-generate');\n",
              "      buttonEl.style.display =\n",
              "        google.colab.kernel.accessAllowed ? 'block' : 'none';\n",
              "\n",
              "      buttonEl.onclick = () => {\n",
              "        google.colab.notebook.generateWithVariable('df');\n",
              "      }\n",
              "      })();\n",
              "    </script>\n",
              "  </div>\n",
              "\n",
              "    </div>\n",
              "  </div>\n"
            ],
            "application/vnd.google.colaboratory.intrinsic+json": {
              "type": "dataframe",
              "variable_name": "df",
              "summary": "{\n  \"name\": \"df\",\n  \"rows\": 4,\n  \"fields\": [\n    {\n      \"column\": \"Molecule\",\n      \"properties\": {\n        \"dtype\": \"string\",\n        \"num_unique_values\": 4,\n        \"samples\": [\n          \"H2O\",\n          \"O2\",\n          \"CO2\"\n        ],\n        \"semantic_type\": \"\",\n        \"description\": \"\"\n      }\n    },\n    {\n      \"column\": \"MW (g/mol)\",\n      \"properties\": {\n        \"dtype\": \"number\",\n        \"std\": 13.089829066874783,\n        \"min\": 16.04,\n        \"max\": 44.01,\n        \"num_unique_values\": 4,\n        \"samples\": [\n          18.02,\n          32.0,\n          44.01\n        ],\n        \"semantic_type\": \"\",\n        \"description\": \"\"\n      }\n    },\n    {\n      \"column\": \"Boiling Point (\\u00b0C)\",\n      \"properties\": {\n        \"dtype\": \"number\",\n        \"std\": 128.64842271348166,\n        \"min\": -183.0,\n        \"max\": 100.0,\n        \"num_unique_values\": 4,\n        \"samples\": [\n          100.0,\n          -183.0,\n          -78.5\n        ],\n        \"semantic_type\": \"\",\n        \"description\": \"\"\n      }\n    },\n    {\n      \"column\": \"Critical Temp (K)\",\n      \"properties\": {\n        \"dtype\": \"number\",\n        \"std\": 224.5090347105583,\n        \"min\": 154.6,\n        \"max\": 647.0,\n        \"num_unique_values\": 4,\n        \"samples\": [\n          647.0,\n          154.6,\n          304.2\n        ],\n        \"semantic_type\": \"\",\n        \"description\": \"\"\n      }\n    }\n  ]\n}"
            }
          },
          "metadata": {},
          "execution_count": 25
        }
      ]
    },
    {
      "cell_type": "code",
      "source": [
        "print(\"First few rows:\\n\", df.head())\n",
        "print(\"\\nData summary:\\n\", df.describe())\n",
        "print(\"\\nColumn names:\", df.columns)\n"
      ],
      "metadata": {
        "colab": {
          "base_uri": "https://localhost:8080/"
        },
        "id": "NkLZG6aWCyUb",
        "outputId": "4b14e75b-487d-492f-f6d1-9679cba42ce2"
      },
      "execution_count": null,
      "outputs": [
        {
          "output_type": "stream",
          "name": "stdout",
          "text": [
            "First few rows:\n",
            "   Molecule  MW (g/mol)  Boiling Point (°C)  Critical Temp (K)\n",
            "0      CO2       44.01               -78.5              304.2\n",
            "1      H2O       18.02               100.0              647.0\n",
            "2      CH4       16.04              -161.5              190.6\n",
            "3       O2       32.00              -183.0              154.6\n",
            "\n",
            "Data summary:\n",
            "        MW (g/mol)  Boiling Point (°C)  Critical Temp (K)\n",
            "count    4.000000            4.000000           4.000000\n",
            "mean    27.517500          -80.750000         324.100000\n",
            "std     13.089829          128.648423         224.509035\n",
            "min     16.040000         -183.000000         154.600000\n",
            "25%     17.525000         -166.875000         181.600000\n",
            "50%     25.010000         -120.000000         247.400000\n",
            "75%     35.002500          -33.875000         389.900000\n",
            "max     44.010000          100.000000         647.000000\n",
            "\n",
            "Column names: Index(['Molecule', 'MW (g/mol)', 'Boiling Point (°C)', 'Critical Temp (K)'], dtype='object')\n"
          ]
        }
      ]
    },
    {
      "cell_type": "code",
      "source": [
        "# Select a column\n",
        "print(df[\"MW (g/mol)\"])\n",
        "\n",
        "# Select multiple columns\n",
        "print(df[[\"Molecule\", \"Boiling Point (°C)\"]])\n",
        "\n",
        "# Select a row by index\n",
        "print(df.loc[2])   # third row\n"
      ],
      "metadata": {
        "colab": {
          "base_uri": "https://localhost:8080/"
        },
        "id": "LJ8ALGwoC1d6",
        "outputId": "3faa1dfc-5e32-4e76-ecbf-d675428d990b"
      },
      "execution_count": null,
      "outputs": [
        {
          "output_type": "stream",
          "name": "stdout",
          "text": [
            "0    44.01\n",
            "1    18.02\n",
            "2    16.04\n",
            "3    32.00\n",
            "Name: MW (g/mol), dtype: float64\n",
            "  Molecule  Boiling Point (°C)\n",
            "0      CO2               -78.5\n",
            "1      H2O               100.0\n",
            "2      CH4              -161.5\n",
            "3       O2              -183.0\n",
            "Molecule                CH4\n",
            "MW (g/mol)            16.04\n",
            "Boiling Point (°C)   -161.5\n",
            "Critical Temp (K)     190.6\n",
            "Name: 2, dtype: object\n"
          ]
        }
      ]
    },
    {
      "cell_type": "code",
      "source": [
        "# Find molecules heavier than 30 g/mol\n",
        "heavy = df[df[\"MW (g/mol)\"] > 30]\n",
        "print(heavy)\n"
      ],
      "metadata": {
        "colab": {
          "base_uri": "https://localhost:8080/"
        },
        "id": "OvuanWwiC3y_",
        "outputId": "f3fedb9d-e9f6-4e9c-b0e1-8e16a0f6e119"
      },
      "execution_count": null,
      "outputs": [
        {
          "output_type": "stream",
          "name": "stdout",
          "text": [
            "  Molecule  MW (g/mol)  Boiling Point (°C)  Critical Temp (K)\n",
            "0      CO2       44.01               -78.5              304.2\n",
            "3       O2       32.00              -183.0              154.6\n"
          ]
        }
      ]
    },
    {
      "cell_type": "code",
      "source": [
        "df.plot(x=\"Molecule\", y=\"Boiling Point (°C)\", kind=\"bar\", legend=False)\n",
        "plt.ylabel(\"Boiling Point (°C)\")\n",
        "plt.title(\"Boiling Points of Molecules\")\n",
        "plt.show()\n"
      ],
      "metadata": {
        "colab": {
          "base_uri": "https://localhost:8080/",
          "height": 488
        },
        "id": "0r8HmWyuC5xg",
        "outputId": "6087c386-cb07-4464-abaf-53f96a248938"
      },
      "execution_count": null,
      "outputs": [
        {
          "output_type": "display_data",
          "data": {
            "text/plain": [
              "<Figure size 640x480 with 1 Axes>"
            ],
            "image/png": "[encoded data removed]"
          },
          "metadata": {}
        }
      ]
    },
    {
      "cell_type": "markdown",
      "source": [
        "### Mini Exercise\n",
        "\n",
        "1. Add a new column `\"Density (g/L)\"` with values `[1.98, 0.997, 0.717, 1.429]`.  \n",
        "2. Filter the DataFrame to show only molecules with density > 1.0 g/L.  \n",
        "3. Plot `\"MW (g/mol)\"` vs `\"Critical Temp (K)\"` as a scatter plot.  \n"
      ],
      "metadata": {
        "id": "c84oc2j2C7sq"
      }
    },
    {
      "cell_type": "markdown",
      "source": [],
      "metadata": {
        "id": "wslF6gRECtzp"
      }
    }
  ],
  "metadata": {
    "colab": {
      "provenance": [],
      "include_colab_link": true
    },
    "kernelspec": {
      "display_name": "Python 3 (ipykernel)",
      "language": "python",
      "name": "python3"
    },
    "language_info": {
      "codemirror_mode": {
        "name": "ipython",
        "version": 3
      },
      "file_extension": ".py",
      "mimetype": "text/x-python",
      "name": "python",
      "nbconvert_exporter": "python",
      "pygments_lexer": "ipython3",
      "version": "3.13.4"
    }
  },
  "nbformat": 4,
  "nbformat_minor": 0
}