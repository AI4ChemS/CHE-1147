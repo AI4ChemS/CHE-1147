{
  "cells": [
    {
      "cell_type": "markdown",
      "metadata": {
        "colab_type": "text",
        "id": "view-in-github"
      },
      "source": [
        "<a href=\"https://colab.research.google.com/github/AI4ChemS/CHE-1147/blob/main/tutorials/tutorial_01_python_refresher.ipynb\" target=\"_parent\"><img src=\"https://colab.research.google.com/assets/colab-badge.svg\" alt=\"Open In Colab\"/></a>"
      ]
    },
    {
      "cell_type": "markdown",
      "metadata": {
        "id": "Xp4YAdcG9GJi"
      },
      "source": [
        "# 🐍 Python Refresher  \n",
        "\n",
        "In this notebook, we’ll do a quick refresher of Python basics.  \n",
        "You’ll need this foundation for everything else we’ll do in the course (data analysis, machine learning, and chemical engineering applications).  \n",
        "\n",
        "---\n",
        "\n",
        "### How to use this notebook:\n",
        "- **Code cells** → run them by pressing `Shift + Enter`.  \n",
        "- **Markdown cells** → contain explanations (like this one).  \n",
        "- You can edit cells, re-run them, and play around.  \n"
      ]
    },
    {
      "cell_type": "markdown",
      "metadata": {
        "id": "LywrGTcTDgxx"
      },
      "source": [
        "# 0 Coding in 2025!\n",
        "\n",
        "> ⚠️ **GenAI is your coding assistant, not your substitute!**  \n",
        "> You are encouraged to use GenAI tools to help you learn and code.  \n",
        "> However, **you are responsible for understanding, testing, and verifying all code you submit**.  \n",
        "> Always review and document any GenAI-assisted work according to course policy.\n",
        "\n",
        "Most IDEs now have GenAI integration. Whether you use Microsoft Code or Google colab, you can use a GenAI model to help you with coding.\n",
        "\n",
        "**GenAI Coding Tips for Beginners:**\n",
        "- Start with simple questions (e.g., \"How do I make a list in Python?\").\n",
        "- Ask for code examples and explanations.\n",
        "- If you don’t understand the answer, ask for a step-by-step breakdown.\n",
        "- Try the code yourself and experiment with changes.\n",
        "- Always check and test the code before using it in your work.\n",
        "\n",
        "\n",
        "## 🤖 Using Gemini inside Google Colab\n",
        "\n",
        "Colab now integrates with **Gemini**, Google’s large language model.  \n",
        "You can ask Gemini questions about your code directly inside Colab.\n",
        "\n",
        "### How to use it:\n",
        "- Highlight code → Right click → \"Ask Gemini\"  \n",
        "- Or click the **Gemini button (spark icon)** in the sidebar.  \n",
        "- You can ask things like:\n",
        "  - \"Explain why this error happens.\"\n",
        "  - \"Refactor this loop into NumPy vectorized code.\"\n",
        "  - \"Write a docstring and unit tests for this function.\"\n",
        "  - \"Plot this data with seaborn instead of matplotlib.\"\n",
        "\n",
        "---\n",
        "\n",
        "### ✅ Tips for Colab + Gemini\n",
        "- Keep prompts **small and focused** (paste the error or 5–10 lines of code).  \n",
        "- Always **run and test locally** — Gemini may hallucinate APIs.  \n",
        "- Use it to **learn and debug**, not to paste entire assignment solutions.  \n",
        "- Document usage in assignments with an **LLM Usage Note** (same policy as ChatGPT).  \n",
        "\n",
        "---\n",
        "\n",
        "### ⚡ Example Workflow\n",
        "1. Write some code and run it.  \n",
        "2. If you get an error → highlight the cell → \"Ask Gemini\".  \n",
        "3. Copy Gemini’s suggestion back into a new cell.  \n",
        "4. Run again and verify.  \n"
      ]
    },
    {
      "cell_type": "markdown",
      "metadata": {},
      "source": [
        "----"
      ]
    },
    {
      "cell_type": "markdown",
      "metadata": {},
      "source": [
        "Let’s start with the most important first step: saying hello. 👋"
      ]
    },
    {
      "cell_type": "code",
      "execution_count": null,
      "metadata": {
        "colab": {
          "base_uri": "https://localhost:8080/"
        },
        "id": "ZS3KQb_Q9P3B",
        "outputId": "eaf7bb2a-9ab9-4653-cf1f-a40b8d2c1a54"
      },
      "outputs": [],
      "source": [
        "print(\"Hello CHE1147! 🎉\")"
      ]
    },
    {
      "cell_type": "markdown",
      "metadata": {
        "id": "J19aAnOg9TWa"
      },
      "source": [
        "✅ Great! If you see `Hello CHE1147! 🎉` above, your Python environment is working.  \n",
        "\n",
        "Next, we’ll dive into Python basics: variables, types, and operations."
      ]
    },
    {
      "cell_type": "markdown",
      "metadata": {
        "id": "ZIyClgwK9n6J"
      },
      "source": [
        "# 1. Python Basics\n",
        "\n",
        "In Python, everything is an object — numbers, text, even functions.  \n",
        "We’ll start with some core building blocks:\n",
        "\n",
        "- **Variables**: names that store values.  \n",
        "- **Types**: integers, floats, strings, booleans.  \n",
        "- **Casting**: converting between types.  \n",
        "\n",
        "Let’s play!\n"
      ]
    },
    {
      "cell_type": "code",
      "execution_count": null,
      "metadata": {
        "colab": {
          "base_uri": "https://localhost:8080/"
        },
        "id": "5zUSDDBV9t_r",
        "outputId": "30a45540-7979-46e7-8530-d4d6c726a945"
      },
      "outputs": [],
      "source": [
        "# Integers\n",
        "atoms = 6\n",
        "print(atoms, type(atoms))\n",
        "\n",
        "# Float (decimal number)\n",
        "molecular_weight = 44.01\n",
        "print(molecular_weight, type(molecular_weight))\n",
        "\n",
        "# String (text)\n",
        "name = \"Carbon Dioxide\"\n",
        "print(name, type(name))\n",
        "\n",
        "# Boolean (True/False)\n",
        "is_gas = True\n",
        "print(is_gas, type(is_gas))"
      ]
    },
    {
      "cell_type": "markdown",
      "metadata": {
        "id": "lxn-S4vh9y_k"
      },
      "source": [
        "Notice how `type(...)` tells us the kind of value a variable holds.  \n",
        "We’ll often move between types, for example when converting numbers to text or rounding floats."
      ]
    },
    {
      "cell_type": "code",
      "execution_count": null,
      "metadata": {
        "colab": {
          "base_uri": "https://localhost:8080/"
        },
        "id": "kDgWjLtB9VlX",
        "outputId": "6847476e-18cf-4540-a425-7e7985abc752"
      },
      "outputs": [],
      "source": [
        "# Converting between types\n",
        "grams = \"88.02\"       # stored as string\n",
        "grams_float = float(grams)   # cast to float\n",
        "print(\"Mass in grams:\", grams_float)\n",
        "\n",
        "atoms_str = str(atoms)       # convert int → string\n",
        "print(\"We have \" + atoms_str + \" atoms in our molecule.\")"
      ]
    },
    {
      "cell_type": "markdown",
      "metadata": {
        "id": "AcMx9bWB9_5H"
      },
      "source": [
        "✅ **Mini Exercise**\n",
        "\n",
        "- Define a variable `mass = 88.02` (grams of CO₂).  \n",
        "- Use the molecular weight (MW = 44.01 g/mol) to calculate the number of moles.  \n",
        "- Print the result with a descriptive message.  \n",
        "\n",
        "Hint: moles = mass / MW\n"
      ]
    },
    {
      "cell_type": "code",
      "execution_count": null,
      "metadata": {
        "colab": {
          "base_uri": "https://localhost:8080/"
        },
        "id": "Q8xm0DxL-E_6",
        "outputId": "ed4034cc-1959-436c-8b40-5a98a2de8ac8"
      },
      "outputs": [],
      "source": [
        "# mass = 88.02       # grams\n",
        "# MW = 44.01         # g/mol\n",
        "# moles = mass / MW\n",
        "# print(f\"Mass = {mass} g, MW = {MW} g/mol → {moles:.2f} mol CO₂\")"
      ]
    },
    {
      "cell_type": "markdown",
      "metadata": {
        "id": "EMsDRiEC--LW"
      },
      "source": [
        "# 2. Collections\n",
        "\n",
        "Often we need to store **multiple values** in one variable.  \n",
        "Python gives us several **collection types**:\n",
        "\n",
        "- **List** → ordered, changeable (`[]`)  \n",
        "- **Tuple** → ordered, unchangeable (`()`)  \n",
        "- **Dictionary** → key–value pairs (`{}`)  \n",
        "\n",
        "Let’s see how each works.\n"
      ]
    },
    {
      "cell_type": "markdown",
      "metadata": {
        "id": "agfiSq8o_N-y"
      },
      "source": [
        "### Lists\n",
        "\n",
        "- Created with square brackets `[]`  \n",
        "- Can store numbers, strings, or even other lists  \n",
        "- We can **index** items (`list[0]`)  \n",
        "- We can **slice** (`list[1:3]`)  \n",
        "- We can **append** or modify items"
      ]
    },
    {
      "cell_type": "code",
      "execution_count": null,
      "metadata": {
        "colab": {
          "base_uri": "https://localhost:8080/"
        },
        "id": "h4v8Tpiw_Qcq",
        "outputId": "83a1bc4b-b239-4187-b701-92690a769ca9"
      },
      "outputs": [],
      "source": [
        "# Example: list of atom symbols in CO2\n",
        "atoms = [\"C\", \"O\", \"O\"]\n",
        "\n",
        "print(\"Atoms:\", atoms)\n",
        "print(\"First atom:\", atoms[0])       # indexing\n",
        "print(\"Last atom:\", atoms[-1])      # negative indexing\n",
        "print(\"Slice:\", atoms[0:2])         # slicing\n",
        "\n",
        "# Lists are mutable: we can change them\n",
        "atoms.append(\"O\")  # add another O\n",
        "print(\"Modified atoms:\", atoms)\n"
      ]
    },
    {
      "cell_type": "markdown",
      "metadata": {
        "id": "q5mu13Ws_SvI"
      },
      "source": [
        "### Tuples\n",
        "\n",
        "- Created with parentheses `()`  \n",
        "- Similar to lists, but **immutable** (cannot be changed)  \n",
        "- Useful when you want data to stay fixed"
      ]
    },
    {
      "cell_type": "code",
      "execution_count": null,
      "metadata": {
        "colab": {
          "base_uri": "https://localhost:8080/"
        },
        "id": "tKW-n8Ow_Upq",
        "outputId": "ffadd4ea-c11b-458d-ff8b-27c48035c637"
      },
      "outputs": [],
      "source": [
        "# Example: critical point of CO2 (T, P)\n",
        "critical_point = (304.2, 73.8)  # Kelvin, bar\n",
        "\n",
        "print(\"Critical point (T, P):\", critical_point)\n",
        "\n",
        "# Tuples are immutable:\n",
        "# critical_point[0] = 310  # ❌ will give an error\n"
      ]
    },
    {
      "cell_type": "markdown",
      "metadata": {
        "id": "Uet9fKhx_Xfm"
      },
      "source": [
        "### Dictionaries\n",
        "\n",
        "- Created with curly braces `{}`  \n",
        "- Store data as **key–value pairs**  \n",
        "- Keys are unique identifiers, values hold the data  \n"
      ]
    },
    {
      "cell_type": "code",
      "execution_count": null,
      "metadata": {
        "colab": {
          "base_uri": "https://localhost:8080/"
        },
        "id": "IDnSW_EH_XUh",
        "outputId": "78ae4286-f46e-4e77-b92c-3c796deaa882"
      },
      "outputs": [],
      "source": [
        "# Example: properties of CO2\n",
        "CO2 = {\n",
        "    \"name\": \"Carbon Dioxide\",\n",
        "    \"MW\": 44.01,\n",
        "    \"critical_T\": 304.2,   # K\n",
        "    \"critical_P\": 73.8,    # bar\n",
        "    \"atoms\": [\"C\", \"O\", \"O\"]\n",
        "}\n",
        "\n",
        "print(\"Molecule name:\", CO2[\"name\"])\n",
        "print(\"Molecular weight:\", CO2[\"MW\"])\n",
        "print(\"Atoms:\", CO2[\"atoms\"])\n"
      ]
    },
    {
      "cell_type": "markdown",
      "metadata": {
        "id": "TGswj7_7_cX4"
      },
      "source": [
        "### Mini Exercise\n",
        "\n",
        "1. Create a list of molecules: `[\"CO2\", \"H2O\", \"CH4\"]`.  \n",
        "2. Turn it into a tuple (so it cannot be changed).  \n",
        "3. Make a dictionary for `\"H2O\"` with:  \n",
        "   - Name: Water  \n",
        "   - MW: 18.02  \n",
        "   - Critical temperature: 647 K  \n",
        "   - Critical pressure: 220 bar  \n",
        "4. Print out the dictionary values.\n"
      ]
    },
    {
      "cell_type": "markdown",
      "metadata": {
        "id": "Sj6VuGBp-Mka"
      },
      "source": [
        "# 3. Control Flow\n",
        "\n",
        "Control flow lets us **make decisions** and **repeat tasks** in code.  \n",
        "We’ll look at:\n",
        "\n",
        "- `if / elif / else` → conditional logic  \n",
        "- `for` loops → repeat over a sequence (e.g., a list of molecules)  \n",
        "- `while` loops → repeat until a condition is met"
      ]
    },
    {
      "cell_type": "markdown",
      "metadata": {
        "id": "31-WuxkH-1_3"
      },
      "source": [
        "### 🟢 If / Elif / Else\n",
        "\n",
        "An **if statement** allows your code to make decisions:  \n",
        "- `if` → run only if a condition is `True`  \n",
        "- `elif` → (else if) add more conditions  \n",
        "- `else` → run if none of the above are true"
      ]
    },
    {
      "cell_type": "code",
      "execution_count": null,
      "metadata": {
        "colab": {
          "base_uri": "https://localhost:8080/"
        },
        "id": "shR6px7Z-Po0",
        "outputId": "5d442f49-8603-448f-a0ba-352b3af57872"
      },
      "outputs": [],
      "source": [
        "temperature = 350  # Kelvin\n",
        "\n",
        "if temperature < 273:\n",
        "    print(\"The substance is solid ❄️\")\n",
        "elif temperature < 373:\n",
        "    print(\"The substance is liquid 💧\")\n",
        "else:\n",
        "    print(\"The substance is gas 💨\")"
      ]
    },
    {
      "cell_type": "markdown",
      "metadata": {
        "id": "0PLmKgb6-6Oh"
      },
      "source": [
        "### 🔁 For Loops\n",
        "\n",
        "A **for loop** repeats code for each element in a sequence (list, string, etc.).  \n",
        "- Use `for item in sequence:`  \n",
        "- Inside the loop, `item` is updated each time.  "
      ]
    },
    {
      "cell_type": "code",
      "execution_count": null,
      "metadata": {
        "colab": {
          "base_uri": "https://localhost:8080/"
        },
        "id": "w6yrO4Jc-TO4",
        "outputId": "b219c26a-7ffe-485e-d2d6-9c6c82f737ac"
      },
      "outputs": [],
      "source": [
        "molecules = [\"CO2\", \"H2O\", \"CH4\", \"O2\"]\n",
        "\n",
        "for mol in molecules:\n",
        "    print(\"Analyzing:\", mol)"
      ]
    },
    {
      "cell_type": "markdown",
      "metadata": {
        "id": "1nLMmddc_FLi"
      },
      "source": [
        "### 🔄 While Loops\n",
        "\n",
        "A **while loop** repeats code until a condition becomes false.  \n",
        "⚠️ Be careful: if the condition never becomes false, the loop will run forever!  "
      ]
    },
    {
      "cell_type": "code",
      "execution_count": null,
      "metadata": {
        "colab": {
          "base_uri": "https://localhost:8080/"
        },
        "id": "-n2_7f67-YXO",
        "outputId": "ffe11fbc-2767-43fa-af5b-23a2aae7de86"
      },
      "outputs": [],
      "source": [
        "pressure = 1  # atm\n",
        "while pressure < 5:\n",
        "    print(\"Current pressure:\", pressure, \"atm\")\n",
        "    pressure += 1"
      ]
    },
    {
      "cell_type": "markdown",
      "metadata": {
        "id": "iXUvaPpU-bgy"
      },
      "source": [
        "### Mini Exercise\n",
        "\n",
        "Write a loop that goes through the list:\n",
        "\n",
        "```python\n",
        "MWs = [44.01, 18.02, 16.04, 32.00]  # CO2, H2O, CH4, O2"
      ]
    },
    {
      "cell_type": "code",
      "execution_count": null,
      "metadata": {
        "id": "Wh9Qr6TE-Zv6"
      },
      "outputs": [],
      "source": [
        "## Your code here"
      ]
    },
    {
      "cell_type": "markdown",
      "metadata": {
        "id": "gui79a0Y-k4f"
      },
      "source": [
        "Example solution:\n",
        "```python\n",
        "MWs = [44.01, 18.02, 16.04, 32.00]\n",
        "\n",
        "for mw in MWs:\n",
        "    if mw < 20:\n",
        "        print(mw, \"→ Light molecule\")\n",
        "    elif mw < 40:\n",
        "        print(mw, \"→ Medium molecule\")\n",
        "    else:\n",
        "        print(mw, \"→ Heavy molecule\")\n"
      ]
    },
    {
      "cell_type": "markdown",
      "metadata": {
        "id": "6zgbSFud_2Ip"
      },
      "source": [
        "# 4. Functions\n",
        "\n",
        "A **function** is a reusable block of code.  \n",
        "Instead of repeating yourself, you can **define once** and **call many times**.\n",
        "\n",
        "- Define with `def`  \n",
        "- Provide **arguments** (inputs)  \n",
        "- Return a value with `return`  \n"
      ]
    },
    {
      "cell_type": "code",
      "execution_count": null,
      "metadata": {
        "colab": {
          "base_uri": "https://localhost:8080/"
        },
        "id": "xIJKLDpI9FrO",
        "outputId": "1a8056d7-5d23-4dfb-9e8e-030c3066cd73"
      },
      "outputs": [],
      "source": [
        "# Define a function that greets the user\n",
        "def greet(name):\n",
        "    \"\"\"Print a friendly greeting message.\"\"\"\n",
        "    print(f\"Hello {name}, welcome to CHE1147! 🎉\")\n",
        "\n",
        "# Call the function\n",
        "greet(\"Lya\")\n",
        "greet(\"Mohamad\")\n"
      ]
    },
    {
      "cell_type": "code",
      "execution_count": null,
      "metadata": {
        "colab": {
          "base_uri": "https://localhost:8080/"
        },
        "id": "gTTwGc0B__9K",
        "outputId": "0ac45143-48c8-4f67-b12e-298890b49952"
      },
      "outputs": [],
      "source": [
        "# Function to calculate moles from mass and molecular weight\n",
        "def calc_moles(mass, MW):\n",
        "    \"\"\"\n",
        "    Calculate number of moles given mass (g) and molecular weight (g/mol).\n",
        "    Returns moles (float).\n",
        "    \"\"\"\n",
        "    return mass / MW\n",
        "\n",
        "# Example usage\n",
        "mass = 88.02   # grams\n",
        "MW = 44.01     # g/mol\n",
        "print(f\"Moles of CO2: {calc_moles(mass, MW):.2f} mol\")\n"
      ]
    },
    {
      "cell_type": "code",
      "execution_count": null,
      "metadata": {
        "colab": {
          "base_uri": "https://localhost:8080/"
        },
        "id": "zzzeARJzAChk",
        "outputId": "3e63af86-6277-4a98-f3c7-ad22a16a2546"
      },
      "outputs": [],
      "source": [
        "# Function with a default molecular weight\n",
        "def calc_moles_CO2(mass, MW=44.01):\n",
        "    \"\"\"\n",
        "    Calculate number of moles.\n",
        "    By default, uses MW of CO2 (44.01 g/mol).\n",
        "    \"\"\"\n",
        "    return mass / MW\n",
        "\n",
        "print(\"Default (CO2):\", calc_moles_CO2(88.02), \"mol\")\n",
        "print(\"Custom MW (H2O):\", calc_moles_CO2(18.02, MW=18.02), \"mol\")\n"
      ]
    },
    {
      "cell_type": "code",
      "execution_count": null,
      "metadata": {
        "colab": {
          "base_uri": "https://localhost:8080/"
        },
        "id": "EolDRqwoAEJQ",
        "outputId": "0f8293fd-3205-44d4-a72d-1dc3bf16d041"
      },
      "outputs": [],
      "source": [
        "# Function that takes a list of (mass, MW) pairs and returns moles\n",
        "def calc_moles_list(masses, MWs):\n",
        "    \"\"\"\n",
        "    Calculate moles for each molecule in lists of masses and MWs.\n",
        "    Returns a list of moles.\n",
        "    \"\"\"\n",
        "    results = []\n",
        "    for m, w in zip(masses, MWs):\n",
        "        results.append(m / w)\n",
        "    return results\n",
        "\n",
        "masses = [88.02, 18.02, 16.04]   # g\n",
        "MWs    = [44.01, 18.02, 16.04]   # g/mol\n",
        "print(\"Moles list:\", calc_moles_list(masses, MWs))\n"
      ]
    },
    {
      "cell_type": "markdown",
      "metadata": {
        "id": "WNvgzwymAH9R"
      },
      "source": [
        "### Mini Exercise\n",
        "\n",
        "1. Write a function `density(mass, volume)` that returns density (g/cm³).  \n",
        "2. Test it with mass = 10 g and volume = 2 cm³.  \n",
        "3. Extend the function by giving volume a default value of 1 cm³.  \n"
      ]
    },
    {
      "cell_type": "markdown",
      "metadata": {
        "id": "riD87y_3AQJx"
      },
      "source": [
        "# 5. Modules & Libraries\n",
        "\n",
        "Python is powerful because we can **import modules** (extra functionality).  \n",
        "\n",
        "- `import module` → bring in the whole module  \n",
        "- `from module import function` → bring in just what you need  \n",
        "\n",
        "We’ll use both **standard library modules** (built into Python) and **external libraries** (installed separately, e.g., NumPy, Pandas, Matplotlib).\n"
      ]
    },
    {
      "cell_type": "code",
      "execution_count": null,
      "metadata": {
        "colab": {
          "base_uri": "https://localhost:8080/"
        },
        "id": "QES5yw5LAYuh",
        "outputId": "e8640212-5f0c-4f65-bd7b-1be736a928cb"
      },
      "outputs": [],
      "source": [
        "import math\n",
        "\n",
        "# Using functions from math\n",
        "print(\"Square root of 16:\", math.sqrt(16))\n",
        "print(\"Sine of 30 degrees:\", math.sin(math.radians(30)))\n",
        "print(\"log_e(10):\", math.log(10))"
      ]
    },
    {
      "cell_type": "code",
      "execution_count": null,
      "metadata": {
        "colab": {
          "base_uri": "https://localhost:8080/"
        },
        "id": "_JSUhVb5AbJG",
        "outputId": "8a8bfc86-cf0c-47cb-81c3-1e55bb577a78"
      },
      "outputs": [],
      "source": [
        "import random\n",
        "\n",
        "# Generate random numbers\n",
        "print(\"Random number between 0 and 1:\", random.random())\n",
        "print(\"Random integer between 1 and 10:\", random.randint(1, 10))\n",
        "\n",
        "# Randomly select from a list\n",
        "molecules = [\"CO2\", \"H2O\", \"CH4\", \"O2\"]\n",
        "print(\"Random molecule:\", random.choice(molecules))\n"
      ]
    },
    {
      "cell_type": "markdown",
      "metadata": {
        "id": "b_j6GYwcAehr"
      },
      "source": [
        "### NumPy\n",
        "\n",
        "NumPy = **Numerical Python**  \n",
        "- Efficient arrays (faster than Python lists)  \n",
        "- Useful for vectorized math, linear algebra, etc."
      ]
    },
    {
      "cell_type": "code",
      "execution_count": null,
      "metadata": {
        "colab": {
          "base_uri": "https://localhost:8080/"
        },
        "id": "s9gXTz-NAdIH",
        "outputId": "04db0dff-5ddd-47c1-8f46-ca905f50fa69"
      },
      "outputs": [],
      "source": [
        "import numpy as np\n",
        "\n",
        "# Create arrays\n",
        "arr = np.array([1, 2, 3, 4, 5])\n",
        "print(\"Array:\", arr)\n",
        "\n",
        "# Math operations\n",
        "print(\"Array * 2:\", arr * 2)\n",
        "print(\"Array squared:\", arr ** 2)\n",
        "\n",
        "# Statistics\n",
        "print(\"Mean:\", arr.mean())\n",
        "print(\"Standard deviation:\", arr.std())\n"
      ]
    },
    {
      "cell_type": "code",
      "execution_count": null,
      "metadata": {
        "colab": {
          "base_uri": "https://localhost:8080/",
          "height": 472
        },
        "id": "fZJ11GGVAk2x",
        "outputId": "72a6b4fd-617a-4f09-9993-f3548421b4ec"
      },
      "outputs": [],
      "source": [
        "import matplotlib.pyplot as plt\n",
        "\n",
        "# Create x values from 0 to 2π\n",
        "x = np.linspace(0, 2*np.pi, 100)\n",
        "y = np.sin(x)\n",
        "\n",
        "plt.plot(x, y, label=\"sin(x)\")\n",
        "plt.xlabel(\"x\")\n",
        "plt.ylabel(\"sin(x)\")\n",
        "plt.title(\"Simple Sine Wave\")\n",
        "plt.legend()\n",
        "plt.show()\n"
      ]
    },
    {
      "cell_type": "markdown",
      "metadata": {
        "id": "5sedzqv5AR0j"
      },
      "source": [
        "### Mini Exercise\n",
        "\n",
        "1. Use the `math` module to compute the factorial of 5.  \n",
        "2. Use the `random` module to simulate rolling a 6-sided die 5 times.  \n",
        "3. Use NumPy to create an array of molecular weights `[44.01, 18.02, 16.04, 32.00]` and calculate:\n",
        "   - The mean MW  \n",
        "   - The maximum MW  \n"
      ]
    },
    {
      "cell_type": "markdown",
      "metadata": {
        "id": "idzKErLZA_Bh"
      },
      "source": [
        "### 📦 Installing Packages\n",
        "\n",
        "Not all libraries come with Python by default.  \n",
        "We often need to install them first:\n",
        "\n",
        "- With **pip** (Python’s built-in package manager):  \n",
        "  ```bash\n",
        "  pip install numpy\n",
        "\n",
        "- With conda (if you’re using Anaconda/Miniconda):\n",
        "  ```bash\n",
        "  conda install numpy\n",
        "\n"
      ]
    },
    {
      "cell_type": "markdown",
      "metadata": {
        "id": "yUQ53lkNBgr4"
      },
      "source": [
        "### 📦 Installing Packages *inside Jupyter Notebooks*\n",
        "\n",
        "You don’t always need to leave Jupyter to install a package.  \n",
        "Just add a `!` (for shell command) or `%pip install` (magic command) in a code cell:\n",
        "\n",
        "- Using pip:\n",
        "```python\n",
        "!pip install numpy\n"
      ]
    },
    {
      "cell_type": "markdown",
      "metadata": {
        "id": "km93zpbhB4rx"
      },
      "source": [
        "### 📦 Installing Packages on Google Colab\n",
        "\n",
        "Google Colab already includes many packages (NumPy, Pandas, Matplotlib, Scikit-learn, etc.).  \n",
        "But for chemistry/engineering libraries (like `rdkit`, `chemprop`, or `pyarrow`), you’ll need to install them manually.\n",
        "\n",
        "Use `!pip install` just like in Jupyter:\n",
        "\n",
        "```python\n",
        "!pip install rdkit-pypi\n"
      ]
    },
    {
      "cell_type": "markdown",
      "metadata": {
        "id": "w-ZMXuKFBQNU"
      },
      "source": [
        "### ✅ Mini Exercise\n",
        "\n",
        "1. Try running the code above for a package like `pandas` or `seaborn`.  \n",
        "2. If it fails, install it with pip or conda.  \n",
        "3. Once installed, import it and check the version:\n",
        "\n",
        "```python\n",
        "import pandas as pd\n",
        "print(pd.__version__)\n"
      ]
    },
    {
      "cell_type": "markdown",
      "metadata": {
        "id": "jL0jS71IB_46"
      },
      "source": [
        "# 6. Visualizing and Plotting with Matplotlib\n",
        "\n",
        "Visualization is essential in data science.  \n",
        "We’ll use **Matplotlib**, the standard plotting library in Python.\n",
        "\n",
        "- `plt.plot()` → line plots  \n",
        "- `plt.scatter()` → scatter plots  \n",
        "- `plt.bar()` → bar charts  \n"
      ]
    },
    {
      "cell_type": "code",
      "execution_count": null,
      "metadata": {
        "colab": {
          "base_uri": "https://localhost:8080/",
          "height": 472
        },
        "id": "XPPsqDxeCEnt",
        "outputId": "e587ae0a-2ac2-4f2a-9dd3-429a7a9a4e0b"
      },
      "outputs": [],
      "source": [
        "import matplotlib.pyplot as plt\n",
        "import numpy as np\n",
        "\n",
        "# Temperature data (K)\n",
        "time = np.arange(0, 10, 1)\n",
        "temperature = [300, 305, 310, 315, 317, 320, 325, 330, 335, 340]\n",
        "\n",
        "plt.plot(time, temperature, marker=\"o\")\n",
        "plt.xlabel(\"Time (s)\")\n",
        "plt.ylabel(\"Temperature (K)\")\n",
        "plt.title(\"Temperature rise over time\")\n",
        "plt.show()"
      ]
    },
    {
      "cell_type": "code",
      "execution_count": null,
      "metadata": {
        "colab": {
          "base_uri": "https://localhost:8080/",
          "height": 472
        },
        "id": "1afibeviCH2d",
        "outputId": "1582fc91-03f3-44bf-ddae-93fa92802e1f"
      },
      "outputs": [],
      "source": [
        "# scatter plot\n",
        "\n",
        "molecules = [\"CO2\", \"H2O\", \"CH4\", \"O2\"]\n",
        "MW = [44.01, 18.02, 16.04, 32.00]        # g/mol\n",
        "boiling_points = [-78.5, 100, -161.5, -183.0]  # °C\n",
        "\n",
        "plt.scatter(MW, boiling_points, color=\"red\")\n",
        "\n",
        "for i, mol in enumerate(molecules):\n",
        "    plt.text(MW[i] + 0.5, boiling_points[i], mol)\n",
        "\n",
        "plt.xlabel(\"Molecular Weight (g/mol)\")\n",
        "plt.ylabel(\"Boiling Point (°C)\")\n",
        "plt.title(\"Molecular Weight vs Boiling Point\")\n",
        "plt.grid(True)\n",
        "plt.show()\n"
      ]
    },
    {
      "cell_type": "code",
      "execution_count": null,
      "metadata": {
        "colab": {
          "base_uri": "https://localhost:8080/",
          "height": 452
        },
        "id": "K7dfuhuOCKxI",
        "outputId": "cd229e91-d0e3-469f-b38f-e209b8b2e00d"
      },
      "outputs": [],
      "source": [
        "# Bar plot\n",
        "\n",
        "molecules = [\"CO2\", \"H2O\", \"CH4\"]\n",
        "critical_T = [304.2, 647.0, 190.6]  # Kelvin\n",
        "\n",
        "plt.bar(molecules, critical_T, color=[\"green\", \"blue\", \"orange\"])\n",
        "plt.ylabel(\"Critical Temperature (K)\")\n",
        "plt.title(\"Critical Temperatures of Selected Molecules\")\n",
        "plt.show()"
      ]
    },
    {
      "cell_type": "markdown",
      "metadata": {
        "id": "ve5zp5YGCSV4"
      },
      "source": [
        "### Mini Exercise\n",
        "\n",
        "1. Create a list of pressures `[1, 2, 3, 4, 5]` (atm).  \n",
        "2. Compute volumes using the ideal gas law at T = 298 K, n = 1 mol, R = 0.08206 L·atm/(mol·K).  \n",
        "   \\[\n",
        "   V = \\frac{nRT}{P}\n",
        "   \\]  \n",
        "3. Plot `P` vs `V` as a scatter plot with a line connecting the points.  \n",
        "4. Label the axes and add a title.\n"
      ]
    },
    {
      "cell_type": "markdown",
      "metadata": {
        "id": "4l2EvlvQCp5G"
      },
      "source": [
        "# 7. Working with Data (Pandas Intro)\n",
        "\n",
        "[Pandas](https://pandas.pydata.org/) is the go-to library for working with data in Python.  \n",
        "\n",
        "- **DataFrame** = table (like Excel, but more powerful)  \n",
        "- **Series** = a single column of data  \n"
      ]
    },
    {
      "cell_type": "code",
      "execution_count": null,
      "metadata": {
        "colab": {
          "base_uri": "https://localhost:8080/",
          "height": 175
        },
        "id": "25G-ZKVRAGQj",
        "outputId": "ba83b964-345a-4478-cb1a-4a81ba673ff8"
      },
      "outputs": [],
      "source": [
        "import pandas as pd\n",
        "\n",
        "# Example: simple molecular dataset\n",
        "data = {\n",
        "    \"Molecule\": [\"CO2\", \"H2O\", \"CH4\", \"O2\"],\n",
        "    \"MW (g/mol)\": [44.01, 18.02, 16.04, 32.00],\n",
        "    \"Boiling Point (°C)\": [-78.5, 100, -161.5, -183.0],\n",
        "    \"Critical Temp (K)\": [304.2, 647.0, 190.6, 154.6]\n",
        "}\n",
        "\n",
        "df = pd.DataFrame(data)\n",
        "df\n"
      ]
    },
    {
      "cell_type": "code",
      "execution_count": null,
      "metadata": {
        "colab": {
          "base_uri": "https://localhost:8080/",
          "height": 175
        },
        "id": "tWQmZUIOCwIT",
        "outputId": "debb489a-c323-4f82-ca47-9601bfc58189"
      },
      "outputs": [],
      "source": [
        "import pandas as pd\n",
        "\n",
        "# Example: simple molecular dataset\n",
        "data = {\n",
        "    \"Molecule\": [\"CO2\", \"H2O\", \"CH4\", \"O2\"],\n",
        "    \"MW (g/mol)\": [44.01, 18.02, 16.04, 32.00],\n",
        "    \"Boiling Point (°C)\": [-78.5, 100, -161.5, -183.0],\n",
        "    \"Critical Temp (K)\": [304.2, 647.0, 190.6, 154.6]\n",
        "}\n",
        "\n",
        "df = pd.DataFrame(data)\n",
        "df\n"
      ]
    },
    {
      "cell_type": "code",
      "execution_count": null,
      "metadata": {
        "colab": {
          "base_uri": "https://localhost:8080/"
        },
        "id": "NkLZG6aWCyUb",
        "outputId": "4b14e75b-487d-492f-f6d1-9679cba42ce2"
      },
      "outputs": [],
      "source": [
        "print(\"First few rows:\\n\", df.head())\n",
        "print(\"\\nData summary:\\n\", df.describe())\n",
        "print(\"\\nColumn names:\", df.columns)"
      ]
    },
    {
      "cell_type": "code",
      "execution_count": null,
      "metadata": {
        "colab": {
          "base_uri": "https://localhost:8080/"
        },
        "id": "LJ8ALGwoC1d6",
        "outputId": "3faa1dfc-5e32-4e76-ecbf-d675428d990b"
      },
      "outputs": [],
      "source": [
        "# Select a column\n",
        "print(df[\"MW (g/mol)\"])\n",
        "\n",
        "# Select multiple columns\n",
        "print(df[[\"Molecule\", \"Boiling Point (°C)\"]])\n",
        "\n",
        "# Select a row by index\n",
        "print(df.loc[2])   # third row\n"
      ]
    },
    {
      "cell_type": "code",
      "execution_count": null,
      "metadata": {
        "colab": {
          "base_uri": "https://localhost:8080/"
        },
        "id": "OvuanWwiC3y_",
        "outputId": "f3fedb9d-e9f6-4e9c-b0e1-8e16a0f6e119"
      },
      "outputs": [],
      "source": [
        "# Find molecules heavier than 30 g/mol\n",
        "heavy = df[df[\"MW (g/mol)\"] > 30]\n",
        "print(heavy)\n"
      ]
    },
    {
      "cell_type": "code",
      "execution_count": null,
      "metadata": {
        "colab": {
          "base_uri": "https://localhost:8080/",
          "height": 488
        },
        "id": "0r8HmWyuC5xg",
        "outputId": "6087c386-cb07-4464-abaf-53f96a248938"
      },
      "outputs": [],
      "source": [
        "df.plot(x=\"Molecule\", y=\"Boiling Point (°C)\", kind=\"bar\", legend=False)\n",
        "plt.ylabel(\"Boiling Point (°C)\")\n",
        "plt.title(\"Boiling Points of Molecules\")\n",
        "plt.show()\n"
      ]
    },
    {
      "cell_type": "markdown",
      "metadata": {
        "id": "c84oc2j2C7sq"
      },
      "source": [
        "### Mini Exercise\n",
        "\n",
        "1. Add a new column `\"Density (g/L)\"` with values `[1.98, 0.997, 0.717, 1.429]`.  \n",
        "2. Filter the DataFrame to show only molecules with density > 1.0 g/L.  \n",
        "3. Plot `\"MW (g/mol)\"` vs `\"Critical Temp (K)\"` as a scatter plot.  \n"
      ]
    },
    {
      "cell_type": "markdown",
      "metadata": {
        "id": "wslF6gRECtzp"
      },
      "source": []
    }
  ],
  "metadata": {
    "colab": {
      "include_colab_link": true,
      "provenance": []
    },
    "kernelspec": {
      "display_name": "aps106",
      "language": "python",
      "name": "python3"
    },
    "language_info": {
      "codemirror_mode": {
        "name": "ipython",
        "version": 3
      },
      "file_extension": ".py",
      "mimetype": "text/x-python",
      "name": "python",
      "nbconvert_exporter": "python",
      "pygments_lexer": "ipython3",
      "version": "3.9.18"
    }
  },
  "nbformat": 4,
  "nbformat_minor": 0
}
