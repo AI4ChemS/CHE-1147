{
 "cells": [
  {
   "cell_type": "markdown",
   "id": "ae99c64a",
   "metadata": {},
   "source": [
    "[![Open In Colab](https://colab.research.google.com/assets/colab-badge.svg)](https://colab.research.google.com/github/AI4ChemS/CHE-1147/blob/main/tutorials/tutorial_03_eda_and_rdkit.ipynb)"
   ]
  },
  {
   "cell_type": "markdown",
   "id": "634e50a3",
   "metadata": {},
   "source": [
    "# Getting Started with RDKit\n",
    "\n",
    "**RDKit** (RD stands for \"Rational Drug Design\") is an open-source cheminformatics toolkit for working with chemical data.\n",
    "\n",
    "Key capabilities include:\n",
    "\n",
    "- **Molecular representation:** Convert chemical names or formulas into machine-readable formats such as SMILES or RDKit Mol objects, and transform 2-D or 3-D structures into data that machine learning (ML) algorithms can process.\n",
    "\n",
    "- **Feature engineering:** Compute molecular descriptors (like molecular weight) and generate fingerprints that encode each molecule as a fixed-length numerical vector that can be used for regression or classification tasks.\n",
    "\n",
    "- **Chemical similarity:** Quantify how alike two molecules are using metrics such as the Tanimoto coefficient, enabling tasks like clustering chemical libraries, virtual screening of large databases, and property prediction.\n",
    "\n",
    "- **Pattern recognition:** Search structures for functional groups or other key motifs, and automatically identify reaction sites or core molecular scaffolds for further analysis.\n",
    "\n",
    "\n",
    "By mastering RDKit, you'll be able to:  \n",
    "- Analyze chemical datasets efficiently\n",
    "- Connect molecular structure to chemical and physical properties\n",
    "- Build predictive machine learning models for molecular properties\n",
    "\n",
    "Further reading:\n",
    "- [RDKit Documentation](https://www.rdkit.org/docs/) - Comprehensive RDKit guide\n",
    "- [RDKit Cookbook](https://www.rdkit.org/docs/Cookbook.html) - Practical examples and recipes\n",
    "- [Greg Landrum's RDKit Blog](https://greglandrum.github.io/rdkit-blog/) - Advanced tutorials and tips\n"
   ]
  },
  {
   "cell_type": "markdown",
   "id": "6ca76bcf",
   "metadata": {},
   "source": [
    "# 1. Installation\n",
    "\n",
    "If you're working on your local machine, you can install by running:\n",
    "```bash\n",
    "pip install rdkit\n",
    "```\n",
    "or for conda:\n",
    "```bash\n",
    "conda install -c rdkit rdkit\n",
    "```\n"
   ]
  },
  {
   "cell_type": "code",
   "execution_count": 1,
   "id": "ed5e97cd",
   "metadata": {},
   "outputs": [],
   "source": [
    "# or for Colab, uncomment:\n",
    "# !pip install rdkit"
   ]
  },
  {
   "cell_type": "code",
   "execution_count": 2,
   "id": "c47e4ad3",
   "metadata": {},
   "outputs": [
    {
     "name": "stdout",
     "output_type": "stream",
     "text": [
      "Water molecule: O\n"
     ]
    },
    {
     "data": {
      "image/png": "[encoded data removed]",
      "text/plain": [
       "<rdkit.Chem.rdchem.Mol at 0x250b009b8b0>"
      ]
     },
     "execution_count": 2,
     "metadata": {},
     "output_type": "execute_result"
    }
   ],
   "source": [
    "# Import packages\n",
    "import pandas as pd\n",
    "import numpy as np\n",
    "from rdkit import Chem\n",
    "from rdkit.Chem import Draw, Descriptors\n",
    "\n",
    "# Test installation by printing a simple molecule\n",
    "water = Chem.MolFromSmiles('O')\n",
    "print(f\"Water molecule: {Chem.MolToSmiles(water)}\")\n",
    "\n",
    "# Test molecule visualization\n",
    "water \n"
   ]
  },
  {
   "cell_type": "markdown",
   "id": "e9e02714",
   "metadata": {},
   "source": [
    "# 2. Molecular Representations\n",
    "\n",
    "## SMILES (Simplified Molecular Input Line Entry System)\n",
    "\n",
    "SMILES encodes a molecule’s structure as a compact line notation, turning a 2-D chemical diagram into a single text string that computers can parse. It represents:\n",
    "- **Atoms:** Element symbols like C (carbon), N (nitrogen), O (oxygen)\n",
    "- **Bonds:** Single bonds implicit, double bonds (=), triple bonds (#)\n",
    "- **Rings:** Numbers mark ring closures so the string can “loop back”\n",
    "- **Branches:** Parentheses show side chains branching off the main backbone\n",
    "\n",
    "Some examples of SMILES:\n",
    "- Water: `O`\n",
    "- Ethanol: `CCO`\n",
    "- Benzene: `c1ccccc1`\n",
    "- Caffeine: `CN1C=NC2=C1C(=O)N(C(=O)N2C)C`\n",
    "\n",
    "## RDKit Mol Objects\n",
    "\n",
    "An RDKit **Mol object** is a computer-readable representation of a molecule. It stores the full molecular graphs/atoms and their chemical information.  This goes beyond a plain SMILES string, which is only a line of text. The SMILES format is ideal for storage and quick exchange, but the Mol object is the working format that lets you analyze, manipulate, and calculate properties directly in RDKit.\n"
   ]
  },
  {
   "cell_type": "code",
   "execution_count": 3,
   "id": "71cadc81",
   "metadata": {},
   "outputs": [
    {
     "name": "stdout",
     "output_type": "stream",
     "text": [
      "Water: O\n",
      "Methane: C\n",
      "Ethanol: CCO\n",
      "Benzene: c1ccccc1\n",
      "Caffeine: CN1C=NC2=C1C(=O)N(C(=O)N2C)C\n"
     ]
    }
   ],
   "source": [
    "# Create molecules from SMILES\n",
    "molecules = {\n",
    "    'Water': 'O',\n",
    "    'Methane': 'C',\n",
    "    'Ethanol': 'CCO',\n",
    "    'Benzene': 'c1ccccc1',\n",
    "    'Caffeine': 'CN1C=NC2=C1C(=O)N(C(=O)N2C)C'\n",
    "}\n",
    "\n",
    "# Convert SMILES to RDKit mol objects\n",
    "mol_objects = {}\n",
    "for name, smiles in molecules.items():\n",
    "    mol = Chem.MolFromSmiles(smiles)\n",
    "    mol_objects[name] = mol\n",
    "    print(f\"{name}: {smiles}\")\n"
   ]
  },
  {
   "cell_type": "code",
   "execution_count": 4,
   "id": "48255ff4",
   "metadata": {},
   "outputs": [
    {
     "data": {
      "image/png": "[encoded data removed]",
      "text/plain": [
       "<rdkit.Chem.rdchem.Mol at 0x250b00a2650>"
      ]
     },
     "execution_count": 4,
     "metadata": {},
     "output_type": "execute_result"
    }
   ],
   "source": [
    "# Display the benzene molecule\n",
    "mol_objects['Benzene']"
   ]
  },
  {
   "cell_type": "code",
   "execution_count": 5,
   "id": "dc348599",
   "metadata": {},
   "outputs": [
    {
     "name": "stdout",
     "output_type": "stream",
     "text": [
      "Number of atoms: 6\n",
      "Number of bonds: 6\n",
      "Molecular formula: C6H6\n",
      "Molecular weight: 78.11 g/mol\n"
     ]
    }
   ],
   "source": [
    "# Check some basic molecular properties\n",
    "benzene = mol_objects['Benzene']\n",
    "\n",
    "print(f\"Number of atoms: {benzene.GetNumAtoms()}\")\n",
    "print(f\"Number of bonds: {benzene.GetNumBonds()}\")\n",
    "print(f\"Molecular formula: {Chem.rdMolDescriptors.CalcMolFormula(benzene)}\")\n",
    "print(f\"Molecular weight: {Descriptors.MolWt(benzene):.2f} g/mol\")\n"
   ]
  },
  {
   "cell_type": "code",
   "execution_count": 6,
   "id": "dc8a383f",
   "metadata": {},
   "outputs": [
    {
     "data": {
      "image/png": "[encoded data removed]",
      "text/plain": [
       "<IPython.core.display.Image object>"
      ]
     },
     "execution_count": 6,
     "metadata": {},
     "output_type": "execute_result"
    }
   ],
   "source": [
    "# Visualize multiple molecules in a grid using MolsToGridImage\n",
    "mol_list = list(mol_objects.values())\n",
    "names = list(mol_objects.keys())\n",
    "\n",
    "Draw.MolsToGridImage(mol_list, molsPerRow=3, legends=names, subImgSize=(200, 200))\n"
   ]
  },
  {
   "cell_type": "markdown",
   "id": "b203a689",
   "metadata": {},
   "source": [
    "## SMILES Canonicalization\n",
    "\n",
    "A single molecule can be written with multiple valid SMILES strings.  \n",
    "*Canonical SMILES* provide a **unique, standardized representation**, ensuring that the same molecule is always encoded the same way.\n",
    "\n",
    "Examples of non-canonical SMILES for acetic acid:\n",
    "- `CC(=O)O`\n",
    "- `C(C(=O)O)`\n",
    "- `OC(=O)C`\n",
    "\n",
    "All represent the same molecule but look different!\n"
   ]
  },
  {
   "cell_type": "code",
   "execution_count": 7,
   "id": "93b850af",
   "metadata": {},
   "outputs": [
    {
     "name": "stdout",
     "output_type": "stream",
     "text": [
      "Original: CC(=O)O\n",
      "Canonical: CC(=O)O\n",
      "\n",
      "Original: C(C(=O)O)\n",
      "Canonical: CC(=O)O\n",
      "\n",
      "Original: OC(=O)C\n",
      "Canonical: CC(=O)O\n",
      "\n"
     ]
    }
   ],
   "source": [
    "# Different SMILES for the same molecule (acetic acid)\n",
    "acetic_acid_variants = [\n",
    "    'CC(=O)O',\n",
    "    'C(C(=O)O)',\n",
    "    'OC(=O)C'\n",
    "]\n",
    "\n",
    "# Convert to mol objects and back to canonical SMILES\n",
    "canonical_smiles = []\n",
    "for smiles in acetic_acid_variants:\n",
    "    mol = Chem.MolFromSmiles(smiles)\n",
    "    canonical = Chem.MolToSmiles(mol)  # This canonicalizes\n",
    "    canonical_smiles.append(canonical)\n",
    "    print(f\"Original: {smiles}\")\n",
    "    print(f\"Canonical: {canonical}\")\n",
    "    print()\n"
   ]
  },
  {
   "cell_type": "code",
   "execution_count": 8,
   "id": "41adc082",
   "metadata": {},
   "outputs": [
    {
     "name": "stdout",
     "output_type": "stream",
     "text": [
      "CCO --> CCO\n",
      "OCC --> CCO\n",
      "C(O)C --> CCO\n"
     ]
    }
   ],
   "source": [
    "# A function to canonicalize SMILES\n",
    "def canonicalize_smiles(smiles):\n",
    "    \"\"\"\n",
    "    Convert any SMILES to its canonical form.\n",
    "    \n",
    "    Args:\n",
    "        smiles (str): Input SMILES string\n",
    "        \n",
    "    Returns:\n",
    "        str: Canonical SMILES\n",
    "    \"\"\"\n",
    "    mol = Chem.MolFromSmiles(smiles)\n",
    "    if mol is None:\n",
    "        return None  # Invalid SMILES\n",
    "    return Chem.MolToSmiles(mol)\n",
    "\n",
    "# Test canonicalization\n",
    "test_smiles = ['CCO', 'OCC', 'C(O)C']  # All represent ethanol\n",
    "for smiles in test_smiles:\n",
    "    canonical = canonicalize_smiles(smiles)\n",
    "    print(f\"{smiles} --> {canonical}\")\n"
   ]
  },
  {
   "cell_type": "markdown",
   "id": "44239d1a",
   "metadata": {},
   "source": [
    "### Mini Exercise 1\n",
    "\n",
    "1. Create mol objects for these important chemical engineering molecules:\n",
    "   - Ethylene: `C=C`\n",
    "   - Propylene: `CC=C`\n",
    "   - Toluene: `Cc1ccccc1`\n",
    "\n",
    "2. Calculate their molecular weights and number of atoms.\n",
    "\n",
    "3. Canonicalize these SMILES and verify they give the same result:\n",
    "   - Toluene: `Cc1ccccc1` vs `c1ccc(C)cc1`\n"
   ]
  },
  {
   "cell_type": "code",
   "execution_count": 9,
   "id": "4e5752c2",
   "metadata": {},
   "outputs": [],
   "source": [
    "# Exercise 1 solution space\n"
   ]
  },
  {
   "cell_type": "markdown",
   "id": "990b0fab",
   "metadata": {},
   "source": [
    "# 3. Molecular Descriptors\n",
    "\n",
    "**Molecular descriptors** are numerical features that quantify molecular properties. They convert molecular structure into vectors that ML algorithms can use.\n",
    "\n",
    "Some descriptor categories include:\n",
    "- **Constitutional:** MW, atom counts, bond counts\n",
    "- **Topological:** Connectivity indices, molecular complexity\n",
    "- **Physicochemical:** LogP, TPSA, solubility parameters\n",
    "- **Electronic:** Partial charges, HOMO-LUMO gaps\n",
    "\n"
   ]
  },
  {
   "cell_type": "code",
   "execution_count": 10,
   "id": "995cf8a4",
   "metadata": {},
   "outputs": [
    {
     "name": "stdout",
     "output_type": "stream",
     "text": [
      "Benzene Molecular Descriptors:\n",
      "Molecular Weight: 78.11 g/mol\n",
      "Heavy Atoms: 6\n",
      "H-bond Donors: 0\n",
      "H-bond Acceptors: 0\n",
      "LogP: 1.69\n",
      "TPSA: 0.00 Ų\n",
      "Rotatable Bonds: 0\n",
      "Aromatic Rings: 1\n",
      "Total Rings: 1\n"
     ]
    }
   ],
   "source": [
    "# Calculate important descriptors for benzene\n",
    "benzene = Chem.MolFromSmiles('c1ccccc1')\n",
    "\n",
    "# Constitutional descriptors\n",
    "mw = Descriptors.MolWt(benzene)\n",
    "heavy_atoms = benzene.GetNumHeavyAtoms()\n",
    "h_bond_donors = Descriptors.NumHDonors(benzene)\n",
    "h_bond_acceptors = Descriptors.NumHAcceptors(benzene)\n",
    "\n",
    "# Physicochemical descriptors  \n",
    "logp = Descriptors.MolLogP(benzene)\n",
    "tpsa = Descriptors.TPSA(benzene)\n",
    "rotatable_bonds = Descriptors.NumRotatableBonds(benzene)\n",
    "\n",
    "# Structural descriptors\n",
    "aromatic_rings = Descriptors.NumAromaticRings(benzene)\n",
    "rings = Descriptors.RingCount(benzene)\n",
    "\n",
    "print(\"Benzene Molecular Descriptors:\")\n",
    "print(f\"Molecular Weight: {mw:.2f} g/mol\")\n",
    "print(f\"Heavy Atoms: {heavy_atoms}\")\n",
    "print(f\"H-bond Donors: {h_bond_donors}\")\n",
    "print(f\"H-bond Acceptors: {h_bond_acceptors}\")\n",
    "print(f\"LogP: {logp:.2f}\")\n",
    "print(f\"TPSA: {tpsa:.2f} Ų\")\n",
    "print(f\"Rotatable Bonds: {rotatable_bonds}\")\n",
    "print(f\"Aromatic Rings: {aromatic_rings}\")\n",
    "print(f\"Total Rings: {rings}\")\n"
   ]
  },
  {
   "cell_type": "markdown",
   "id": "0c8bd440",
   "metadata": {},
   "source": [
    "# 4. Molecular Fingerprints & Similarity\n",
    "\n",
    "**Molecular fingerprints** encode molecular structure as binary vectors (bit strings). Each bit represents the presence/absence of a specific structural feature.\n",
    "\n",
    "A common approach is the **Morgan fingerprint**, which encodes circular substructures around each atom. The **radius** controls how many bonds the algorithm explores outward from each atom, while the **length** determines the size of the bit string (typically 1,024 or 2,048 bits). By capturing local chemical environments in this way, Morgan fingerprints provide a consistent numerical description of any molecule.\n"
   ]
  },
  {
   "cell_type": "code",
   "execution_count": 11,
   "id": "34b79bc5",
   "metadata": {},
   "outputs": [
    {
     "name": "stdout",
     "output_type": "stream",
     "text": [
      "Fingerprint length: 2048\n",
      "Number of bits set: 3\n",
      "First 20 bits: [0, 0, 0, 0, 0, 0, 0, 0, 0, 0, 0, 0, 0, 0, 0, 0, 0, 0, 0, 0]\n"
     ]
    }
   ],
   "source": [
    "from rdkit.Chem import rdFingerprintGenerator\n",
    "\n",
    "# Create Morgan fingerprint generator\n",
    "# radius=2 means we look 2 bonds away from each atom\n",
    "# fpSize=2048 means 2048-bit fingerprint\n",
    "morgan_gen = rdFingerprintGenerator.GetMorganGenerator(radius=2, fpSize=2048)\n",
    "\n",
    "# Generate fingerprint for benzene\n",
    "benzene = Chem.MolFromSmiles('c1ccccc1')\n",
    "benzene_fp = morgan_gen.GetFingerprint(benzene)\n",
    "\n",
    "print(f\"Fingerprint length: {benzene_fp.GetNumBits()}\")\n",
    "print(f\"Number of bits set: {benzene_fp.GetNumOnBits()}\")\n",
    "\n",
    "# Convert to list to see the first few bits\n",
    "fp_array = benzene_fp.ToList()\n",
    "print(f\"First 20 bits: {fp_array[:20]}\")\n"
   ]
  },
  {
   "cell_type": "markdown",
   "id": "32ee2608",
   "metadata": {},
   "source": [
    "The **Tanimoto coefficient** is then used to compare these fingerprints. This makes it the standard metric for assessing molecular similarity once Morgan fingerprints have been generated. It measures the fraction of shared bits between two molecules relative to the total bits set in either one, giving a score from 0 (no common features) to 1 (identical fingerprints)."
   ]
  },
  {
   "cell_type": "code",
   "execution_count": 12,
   "id": "280bcd29",
   "metadata": {},
   "outputs": [
    {
     "data": {
      "text/html": [
       "<div>\n",
       "<style scoped>\n",
       "    .dataframe tbody tr th:only-of-type {\n",
       "        vertical-align: middle;\n",
       "    }\n",
       "\n",
       "    .dataframe tbody tr th {\n",
       "        vertical-align: top;\n",
       "    }\n",
       "\n",
       "    .dataframe thead th {\n",
       "        text-align: right;\n",
       "    }\n",
       "</style>\n",
       "<table border=\"1\" class=\"dataframe\">\n",
       "  <thead>\n",
       "    <tr style=\"text-align: right;\">\n",
       "      <th></th>\n",
       "      <th>Caffeine</th>\n",
       "      <th>Theobromine</th>\n",
       "      <th>Theophylline</th>\n",
       "      <th>Benzene</th>\n",
       "      <th>Toluene</th>\n",
       "    </tr>\n",
       "  </thead>\n",
       "  <tbody>\n",
       "    <tr>\n",
       "      <th>Caffeine</th>\n",
       "      <td>1.000000</td>\n",
       "      <td>0.529412</td>\n",
       "      <td>0.457143</td>\n",
       "      <td>0.037037</td>\n",
       "      <td>0.090909</td>\n",
       "    </tr>\n",
       "    <tr>\n",
       "      <th>Theobromine</th>\n",
       "      <td>0.529412</td>\n",
       "      <td>1.000000</td>\n",
       "      <td>0.292683</td>\n",
       "      <td>0.034483</td>\n",
       "      <td>0.085714</td>\n",
       "    </tr>\n",
       "    <tr>\n",
       "      <th>Theophylline</th>\n",
       "      <td>0.457143</td>\n",
       "      <td>0.292683</td>\n",
       "      <td>1.000000</td>\n",
       "      <td>0.035714</td>\n",
       "      <td>0.088235</td>\n",
       "    </tr>\n",
       "    <tr>\n",
       "      <th>Benzene</th>\n",
       "      <td>0.037037</td>\n",
       "      <td>0.034483</td>\n",
       "      <td>0.035714</td>\n",
       "      <td>1.000000</td>\n",
       "      <td>0.272727</td>\n",
       "    </tr>\n",
       "    <tr>\n",
       "      <th>Toluene</th>\n",
       "      <td>0.090909</td>\n",
       "      <td>0.085714</td>\n",
       "      <td>0.088235</td>\n",
       "      <td>0.272727</td>\n",
       "      <td>1.000000</td>\n",
       "    </tr>\n",
       "  </tbody>\n",
       "</table>\n",
       "</div>"
      ],
      "text/plain": [
       "              Caffeine  Theobromine  Theophylline   Benzene   Toluene\n",
       "Caffeine      1.000000     0.529412      0.457143  0.037037  0.090909\n",
       "Theobromine   0.529412     1.000000      0.292683  0.034483  0.085714\n",
       "Theophylline  0.457143     0.292683      1.000000  0.035714  0.088235\n",
       "Benzene       0.037037     0.034483      0.035714  1.000000  0.272727\n",
       "Toluene       0.090909     0.085714      0.088235  0.272727  1.000000"
      ]
     },
     "execution_count": 12,
     "metadata": {},
     "output_type": "execute_result"
    }
   ],
   "source": [
    "from rdkit.DataStructs import TanimotoSimilarity\n",
    "\n",
    "# Create molecules for similarity comparison\n",
    "molecules_sim = {\n",
    "    'Caffeine': 'CN1C=NC2=C1C(=O)N(C(=O)N2C)C',\n",
    "    'Theobromine': 'CN1C=NC2=C1C(=O)NC(=O)N2C',    # Similar to caffeine\n",
    "    'Theophylline': 'CN1C2=C(C(=O)N(C1=O)C)NC=N2', # Similar to caffeine\n",
    "    'Benzene': 'c1ccccc1',                         # Different structure\n",
    "    'Toluene': 'Cc1ccccc1'                         # Different structure\n",
    "}\n",
    "\n",
    "# Generate fingerprints\n",
    "fingerprints = {}\n",
    "for name, smiles in molecules_sim.items():\n",
    "    mol = Chem.MolFromSmiles(smiles)\n",
    "    fp = morgan_gen.GetFingerprint(mol)\n",
    "    fingerprints[name] = fp\n",
    "\n",
    "# Build similarity matrix as DataFrame\n",
    "names = list(molecules_sim.keys())\n",
    "matrix = [\n",
    "    [TanimotoSimilarity(fingerprints[a], fingerprints[b]) for b in names]\n",
    "    for a in names\n",
    "]\n",
    "\n",
    "similarity_df = pd.DataFrame(matrix, index=names, columns=names)\n",
    "similarity_df"
   ]
  },
  {
   "cell_type": "markdown",
   "id": "49bfd9a0",
   "metadata": {},
   "source": [
    "### Mini Exercise 2\n",
    "\n",
    "1. Calculate Morgan fingerprints for these solvent molecules:\n",
    "   - Water: `O`\n",
    "   - Methanol: `CO`\n",
    "   - Ethanol: `CCO`\n",
    "   - Propanol: `CCCO`\n",
    "\n",
    "2. Which alcohol (methanol, ethanol, propanol) is most similar to ethanol?\n",
    "\n",
    "3. Compare the similarity of water to each alcohol. What do you observe about the trend?\n"
   ]
  },
  {
   "cell_type": "code",
   "execution_count": 13,
   "id": "08a2b37b",
   "metadata": {},
   "outputs": [],
   "source": [
    "# Exercise 2 solution space\n"
   ]
  },
  {
   "cell_type": "markdown",
   "id": "4201fcba",
   "metadata": {},
   "source": [
    "# 5. Working with Datasets\n",
    "\n",
    "Real-world cheminformatics projects often involve **large collections of molecules**, and RDKit works smoothly with **pandas** to handle them with DataFrames.\n",
    "\n",
    "In this example we will test RDKit functions over the **ClinTox dataset**, which contains **1,480 drug-like molecules** represented by SMILES strings. Each entry (row) is tagged to indicate whether the compound is an FDA-approved drug or one that failed clinical trials due to toxicity.\n",
    "\n",
    "\n",
    "## Introduction to Pandas\n",
    "\n",
    "**Pandas** (Python Data Analysis Library) is a library for data manipulation and analysis in Python.\n",
    "\n",
    "Key capabilities include:\n",
    "\n",
    "- **DataFrames:** Two-dimensional labeled data structures (like spreadsheets) that can store different data types in columns\n",
    "\n",
    "- **Data loading:** Read data from various formats (CSV, Excel, JSON, databases)\n",
    "\n",
    "- **Data manipulation:** Filter, sort, group, remove and transform data, allowing you to subset molecular libraries, calculate statistics, and prepare whole datasets for machine learning\n",
    "\n",
    "## Essential Pandas Functions\n",
    "\n",
    "Before diving into our dataset, let's understand the key pandas functions we'll use:\n",
    "\n",
    "- `pd.read_csv()`: \n",
    "This function loads data from CSV files into a DataFrame. Datasets are commonly stored in CSV format, with each row representing a datapoint (e.g. a molecule) and columns contain descriptors (e.g. SMILES, chemical properties)\n",
    "\n",
    "- `DataFrame.shape`: \n",
    "Returns the dimensions of your dataset as (rows, columns). This is a checkpoint to understand whether you're working with hundreds or thousands of datapoints\n",
    "\n",
    "- `DataFrame.head()`: \n",
    "Displays the first few rows (default 5) of your dataset. This gives you a quick preview of the data structure, column names, and data types"
   ]
  },
  {
   "cell_type": "code",
   "execution_count": 14,
   "id": "faab4d2d",
   "metadata": {},
   "outputs": [
    {
     "name": "stdout",
     "output_type": "stream",
     "text": [
      "Dataset shape: (1480, 3)\n",
      "First few rows:\n"
     ]
    },
    {
     "data": {
      "text/html": [
       "<div>\n",
       "<style scoped>\n",
       "    .dataframe tbody tr th:only-of-type {\n",
       "        vertical-align: middle;\n",
       "    }\n",
       "\n",
       "    .dataframe tbody tr th {\n",
       "        vertical-align: top;\n",
       "    }\n",
       "\n",
       "    .dataframe thead th {\n",
       "        text-align: right;\n",
       "    }\n",
       "</style>\n",
       "<table border=\"1\" class=\"dataframe\">\n",
       "  <thead>\n",
       "    <tr style=\"text-align: right;\">\n",
       "      <th></th>\n",
       "      <th>smiles</th>\n",
       "      <th>FDA_APPROVED</th>\n",
       "      <th>CT_TOX</th>\n",
       "    </tr>\n",
       "  </thead>\n",
       "  <tbody>\n",
       "    <tr>\n",
       "      <th>0</th>\n",
       "      <td>C(=O)[C@H](CCCCNC(=O)OCCOC)NC(=O)OCCOC</td>\n",
       "      <td>1</td>\n",
       "      <td>0</td>\n",
       "    </tr>\n",
       "    <tr>\n",
       "      <th>1</th>\n",
       "      <td>[C@@H]1([C@@H]([C@@H]([C@H]([C@@H]([C@@H]1Cl)C...</td>\n",
       "      <td>1</td>\n",
       "      <td>0</td>\n",
       "    </tr>\n",
       "    <tr>\n",
       "      <th>2</th>\n",
       "      <td>[C@H]([C@@H]([C@@H](C(=O)[O-])O)O)([C@H](C(=O)...</td>\n",
       "      <td>1</td>\n",
       "      <td>0</td>\n",
       "    </tr>\n",
       "    <tr>\n",
       "      <th>3</th>\n",
       "      <td>[H]/[NH+]=C(/C1=CC(=O)/C(=C\\C=c2ccc(=C([NH3+])...</td>\n",
       "      <td>1</td>\n",
       "      <td>0</td>\n",
       "    </tr>\n",
       "    <tr>\n",
       "      <th>4</th>\n",
       "      <td>[H]/[NH+]=C(\\N)/c1ccc(cc1)OCCCCCOc2ccc(cc2)/C(...</td>\n",
       "      <td>1</td>\n",
       "      <td>0</td>\n",
       "    </tr>\n",
       "  </tbody>\n",
       "</table>\n",
       "</div>"
      ],
      "text/plain": [
       "                                              smiles  FDA_APPROVED  CT_TOX\n",
       "0             C(=O)[C@H](CCCCNC(=O)OCCOC)NC(=O)OCCOC             1       0\n",
       "1  [C@@H]1([C@@H]([C@@H]([C@H]([C@@H]([C@@H]1Cl)C...             1       0\n",
       "2  [C@H]([C@@H]([C@@H](C(=O)[O-])O)O)([C@H](C(=O)...             1       0\n",
       "3  [H]/[NH+]=C(/C1=CC(=O)/C(=C\\C=c2ccc(=C([NH3+])...             1       0\n",
       "4  [H]/[NH+]=C(\\N)/c1ccc(cc1)OCCCCCOc2ccc(cc2)/C(...             1       0"
      ]
     },
     "execution_count": 14,
     "metadata": {},
     "output_type": "execute_result"
    }
   ],
   "source": [
    "# Load dataset using pd.read_csv()\n",
    "# This function reads the CSV file from a URL and creates a DataFrame\n",
    "url = \"https://raw.githubusercontent.com/AI4ChemS/CHE-1147/main/data/tutorial_03_clintox.csv\"\n",
    "df = pd.read_csv(url)\n",
    "\n",
    "# Check dataset dimensions using .shape()\n",
    "print(f\"Dataset shape: {df.shape}\")\n",
    "\n",
    "# Show the first few rows with .head()\n",
    "print(\"First few rows:\")\n",
    "df.head()"
   ]
  },
  {
   "cell_type": "markdown",
   "id": "d4ee47af",
   "metadata": {},
   "source": [
    "Now that we have loaded our dataset, we can to convert the SMILES strings into RDKit molecule objects.\n",
    "\n",
    "`PandasTools.AddMoleculeColumnToFrame()` is an RDKit function that creates RDKit mol objects from SMILES strings in a specified column, and adds a new column to the DataFrame containing these mol objects"
   ]
  },
  {
   "cell_type": "code",
   "execution_count": 15,
   "id": "b5858505",
   "metadata": {},
   "outputs": [
    {
     "data": {
      "text/html": [
       "<div>\n",
       "<style scoped>\n",
       "    .dataframe tbody tr th:only-of-type {\n",
       "        vertical-align: middle;\n",
       "    }\n",
       "\n",
       "    .dataframe tbody tr th {\n",
       "        vertical-align: top;\n",
       "    }\n",
       "\n",
       "    .dataframe thead th {\n",
       "        text-align: right;\n",
       "    }\n",
       "</style>\n",
       "<table border=\"1\" class=\"dataframe\">\n",
       "  <thead>\n",
       "    <tr style=\"text-align: right;\">\n",
       "      <th></th>\n",
       "      <th>smiles</th>\n",
       "      <th>FDA_APPROVED</th>\n",
       "      <th>CT_TOX</th>\n",
       "      <th>molecule</th>\n",
       "    </tr>\n",
       "  </thead>\n",
       "  <tbody>\n",
       "    <tr>\n",
       "      <th>0</th>\n",
       "      <td>C(=O)[C@H](CCCCNC(=O)OCCOC)NC(=O)OCCOC</td>\n",
       "      <td>1</td>\n",
       "      <td>0</td>\n",
       "      <td>&lt;rdkit.Chem.rdchem.Mol object at 0x00000250B02...</td>\n",
       "    </tr>\n",
       "    <tr>\n",
       "      <th>1</th>\n",
       "      <td>[C@@H]1([C@@H]([C@@H]([C@H]([C@@H]([C@@H]1Cl)C...</td>\n",
       "      <td>1</td>\n",
       "      <td>0</td>\n",
       "      <td>&lt;rdkit.Chem.rdchem.Mol object at 0x00000250B02...</td>\n",
       "    </tr>\n",
       "    <tr>\n",
       "      <th>2</th>\n",
       "      <td>[C@H]([C@@H]([C@@H](C(=O)[O-])O)O)([C@H](C(=O)...</td>\n",
       "      <td>1</td>\n",
       "      <td>0</td>\n",
       "      <td>&lt;rdkit.Chem.rdchem.Mol object at 0x00000250B13...</td>\n",
       "    </tr>\n",
       "    <tr>\n",
       "      <th>3</th>\n",
       "      <td>[H]/[NH+]=C(/C1=CC(=O)/C(=C\\C=c2ccc(=C([NH3+])...</td>\n",
       "      <td>1</td>\n",
       "      <td>0</td>\n",
       "      <td>&lt;rdkit.Chem.rdchem.Mol object at 0x00000250B13...</td>\n",
       "    </tr>\n",
       "    <tr>\n",
       "      <th>4</th>\n",
       "      <td>[H]/[NH+]=C(\\N)/c1ccc(cc1)OCCCCCOc2ccc(cc2)/C(...</td>\n",
       "      <td>1</td>\n",
       "      <td>0</td>\n",
       "      <td>&lt;rdkit.Chem.rdchem.Mol object at 0x00000250B13...</td>\n",
       "    </tr>\n",
       "  </tbody>\n",
       "</table>\n",
       "</div>"
      ],
      "text/plain": [
       "                                              smiles  FDA_APPROVED  CT_TOX  \\\n",
       "0             C(=O)[C@H](CCCCNC(=O)OCCOC)NC(=O)OCCOC             1       0   \n",
       "1  [C@@H]1([C@@H]([C@@H]([C@H]([C@@H]([C@@H]1Cl)C...             1       0   \n",
       "2  [C@H]([C@@H]([C@@H](C(=O)[O-])O)O)([C@H](C(=O)...             1       0   \n",
       "3  [H]/[NH+]=C(/C1=CC(=O)/C(=C\\C=c2ccc(=C([NH3+])...             1       0   \n",
       "4  [H]/[NH+]=C(\\N)/c1ccc(cc1)OCCCCCOc2ccc(cc2)/C(...             1       0   \n",
       "\n",
       "                                            molecule  \n",
       "0  <rdkit.Chem.rdchem.Mol object at 0x00000250B02...  \n",
       "1  <rdkit.Chem.rdchem.Mol object at 0x00000250B02...  \n",
       "2  <rdkit.Chem.rdchem.Mol object at 0x00000250B13...  \n",
       "3  <rdkit.Chem.rdchem.Mol object at 0x00000250B13...  \n",
       "4  <rdkit.Chem.rdchem.Mol object at 0x00000250B13...  "
      ]
     },
     "execution_count": 15,
     "metadata": {},
     "output_type": "execute_result"
    }
   ],
   "source": [
    "from rdkit.Chem import PandasTools\n",
    "\n",
    "# Add a column called 'molecule' with mol objects\n",
    "PandasTools.AddMoleculeColumnToFrame(df, smilesCol='smiles', molCol='molecule')\n",
    "\n",
    "df.head()\n"
   ]
  },
  {
   "cell_type": "markdown",
   "id": "ba390e54",
   "metadata": {},
   "source": [
    "We can also check how many molecules were successfully created using pandas. We could do this by counting how many rows in the 'molecule' column are not null, with the functions:\n",
    "- `.notna()` returns boolean mask for non-null values\n",
    "- `.sum()` counts True values (successful molecule creations)\n",
    "- `len()` gives total number of rows in the DataFrame"
   ]
  },
  {
   "cell_type": "code",
   "execution_count": 16,
   "id": "aa01cdc3",
   "metadata": {},
   "outputs": [
    {
     "name": "stdout",
     "output_type": "stream",
     "text": [
      "Molecules created: 1480/1480\n"
     ]
    }
   ],
   "source": [
    "non_null_mask = df['molecule'].notna()     \n",
    "num_created = non_null_mask.sum()           \n",
    "total_rows = len(df) \n",
    "\n",
    "print(f\"Molecules created: {num_created}/{total_rows}\")\n"
   ]
  },
  {
   "cell_type": "code",
   "execution_count": 17,
   "id": "da3731b7",
   "metadata": {},
   "outputs": [
    {
     "name": "stdout",
     "output_type": "stream",
     "text": [
      "Dataset shape: (1480, 10)\n"
     ]
    },
    {
     "data": {
      "text/html": [
       "<div>\n",
       "<style scoped>\n",
       "    .dataframe tbody tr th:only-of-type {\n",
       "        vertical-align: middle;\n",
       "    }\n",
       "\n",
       "    .dataframe tbody tr th {\n",
       "        vertical-align: top;\n",
       "    }\n",
       "\n",
       "    .dataframe thead th {\n",
       "        text-align: right;\n",
       "    }\n",
       "</style>\n",
       "<table border=\"1\" class=\"dataframe\">\n",
       "  <thead>\n",
       "    <tr style=\"text-align: right;\">\n",
       "      <th></th>\n",
       "      <th>smiles</th>\n",
       "      <th>FDA_APPROVED</th>\n",
       "      <th>CT_TOX</th>\n",
       "      <th>molecule</th>\n",
       "      <th>MW</th>\n",
       "      <th>LogP</th>\n",
       "      <th>TPSA</th>\n",
       "      <th>HBD</th>\n",
       "      <th>HBA</th>\n",
       "      <th>RotBonds</th>\n",
       "    </tr>\n",
       "  </thead>\n",
       "  <tbody>\n",
       "    <tr>\n",
       "      <th>0</th>\n",
       "      <td>C(=O)[C@H](CCCCNC(=O)OCCOC)NC(=O)OCCOC</td>\n",
       "      <td>1</td>\n",
       "      <td>0</td>\n",
       "      <td>&lt;rdkit.Chem.rdchem.Mol object at 0x00000250B02...</td>\n",
       "      <td>334.369</td>\n",
       "      <td>0.4694</td>\n",
       "      <td>112.19</td>\n",
       "      <td>2</td>\n",
       "      <td>7</td>\n",
       "      <td>13</td>\n",
       "    </tr>\n",
       "    <tr>\n",
       "      <th>1</th>\n",
       "      <td>[C@@H]1([C@@H]([C@@H]([C@H]([C@@H]([C@@H]1Cl)C...</td>\n",
       "      <td>1</td>\n",
       "      <td>0</td>\n",
       "      <td>&lt;rdkit.Chem.rdchem.Mol object at 0x00000250B02...</td>\n",
       "      <td>290.832</td>\n",
       "      <td>3.6444</td>\n",
       "      <td>0.00</td>\n",
       "      <td>0</td>\n",
       "      <td>0</td>\n",
       "      <td>0</td>\n",
       "    </tr>\n",
       "    <tr>\n",
       "      <th>2</th>\n",
       "      <td>[C@H]([C@@H]([C@@H](C(=O)[O-])O)O)([C@H](C(=O)...</td>\n",
       "      <td>1</td>\n",
       "      <td>0</td>\n",
       "      <td>&lt;rdkit.Chem.rdchem.Mol object at 0x00000250B13...</td>\n",
       "      <td>208.122</td>\n",
       "      <td>-6.0702</td>\n",
       "      <td>161.18</td>\n",
       "      <td>4</td>\n",
       "      <td>8</td>\n",
       "      <td>5</td>\n",
       "    </tr>\n",
       "    <tr>\n",
       "      <th>3</th>\n",
       "      <td>[H]/[NH+]=C(/C1=CC(=O)/C(=C\\C=c2ccc(=C([NH3+])...</td>\n",
       "      <td>1</td>\n",
       "      <td>0</td>\n",
       "      <td>&lt;rdkit.Chem.rdchem.Mol object at 0x00000250B13...</td>\n",
       "      <td>282.347</td>\n",
       "      <td>-3.1586</td>\n",
       "      <td>122.34</td>\n",
       "      <td>4</td>\n",
       "      <td>2</td>\n",
       "      <td>2</td>\n",
       "    </tr>\n",
       "    <tr>\n",
       "      <th>4</th>\n",
       "      <td>[H]/[NH+]=C(\\N)/c1ccc(cc1)OCCCCCOc2ccc(cc2)/C(...</td>\n",
       "      <td>1</td>\n",
       "      <td>0</td>\n",
       "      <td>&lt;rdkit.Chem.rdchem.Mol object at 0x00000250B13...</td>\n",
       "      <td>342.443</td>\n",
       "      <td>-0.7565</td>\n",
       "      <td>121.68</td>\n",
       "      <td>4</td>\n",
       "      <td>2</td>\n",
       "      <td>10</td>\n",
       "    </tr>\n",
       "  </tbody>\n",
       "</table>\n",
       "</div>"
      ],
      "text/plain": [
       "                                              smiles  FDA_APPROVED  CT_TOX  \\\n",
       "0             C(=O)[C@H](CCCCNC(=O)OCCOC)NC(=O)OCCOC             1       0   \n",
       "1  [C@@H]1([C@@H]([C@@H]([C@H]([C@@H]([C@@H]1Cl)C...             1       0   \n",
       "2  [C@H]([C@@H]([C@@H](C(=O)[O-])O)O)([C@H](C(=O)...             1       0   \n",
       "3  [H]/[NH+]=C(/C1=CC(=O)/C(=C\\C=c2ccc(=C([NH3+])...             1       0   \n",
       "4  [H]/[NH+]=C(\\N)/c1ccc(cc1)OCCCCCOc2ccc(cc2)/C(...             1       0   \n",
       "\n",
       "                                            molecule       MW    LogP    TPSA  \\\n",
       "0  <rdkit.Chem.rdchem.Mol object at 0x00000250B02...  334.369  0.4694  112.19   \n",
       "1  <rdkit.Chem.rdchem.Mol object at 0x00000250B02...  290.832  3.6444    0.00   \n",
       "2  <rdkit.Chem.rdchem.Mol object at 0x00000250B13...  208.122 -6.0702  161.18   \n",
       "3  <rdkit.Chem.rdchem.Mol object at 0x00000250B13...  282.347 -3.1586  122.34   \n",
       "4  <rdkit.Chem.rdchem.Mol object at 0x00000250B13...  342.443 -0.7565  121.68   \n",
       "\n",
       "   HBD  HBA  RotBonds  \n",
       "0    2    7        13  \n",
       "1    0    0         0  \n",
       "2    4    8         5  \n",
       "3    4    2         2  \n",
       "4    4    2        10  "
      ]
     },
     "execution_count": 17,
     "metadata": {},
     "output_type": "execute_result"
    }
   ],
   "source": [
    "# Define a function to calculate key molecular descriptors\n",
    "def calculate_key_descriptors(mol):\n",
    "    \"\"\"Calculate key molecular descriptors for a molecule.\"\"\"\n",
    "    \n",
    "    descriptors = {\n",
    "        'MW': Descriptors.MolWt(mol),\n",
    "        'LogP': Descriptors.MolLogP(mol),\n",
    "        'TPSA': Descriptors.TPSA(mol),\n",
    "        'HBD': Descriptors.NumHDonors(mol),\n",
    "        'HBA': Descriptors.NumHAcceptors(mol),\n",
    "        'RotBonds': Descriptors.NumRotatableBonds(mol)\n",
    "    }\n",
    "    \n",
    "    return descriptors\n",
    "\n",
    "# Apply the function to the molecules in the DataFrame\n",
    "descriptor_data = []\n",
    "for idx, mol in df['molecule'].items():\n",
    "    desc = calculate_key_descriptors(mol)\n",
    "    descriptor_data.append(desc)\n",
    "\n",
    "# Create descriptor DataFrame with pd.DataFrame()\n",
    "# We use the same index as the original DataFrame to maintain row alignment\n",
    "descriptor_df = pd.DataFrame(descriptor_data, index=df.index)\n",
    "\n",
    "# Combine with the original molecules DataFrame\n",
    "df_with_descriptors = pd.concat([df, descriptor_df], axis=1)\n",
    "\n",
    "# Check the new dimensions - we should have the same number of rows but more columns\n",
    "print(f\"Dataset shape: {df_with_descriptors.shape}\")\n",
    "df_with_descriptors.head()\n"
   ]
  },
  {
   "cell_type": "markdown",
   "id": "cd41e8c2",
   "metadata": {},
   "source": [
    "# 6. Exploratory Data Analysis (EDA)\n",
    "\n",
    "**Exploratory Data Analysis** is the critical first step in any data science project, especially in cheminformatics where understanding the chemical space and data quality is essential before building predictive models.\n",
    "\n",
    "## Introduction to EDA\n",
    "\n",
    "EDA is the process of examining and understanding your dataset through:\n",
    "\n",
    "- **Data overview:** Understanding the structure, size, and types of variables a your chemical dataset\n",
    "- **Quality assessment:** Identifying missing values, outliers, and potential data quality issues that could affect model performance\n",
    "- **Distribution analysis:** Examining how molecular properties are distributed across your chemical library\n",
    "- **Relationship exploration:** Discovering correlations between molecular descriptors and target properties\n",
    "- **Pattern recognition:** Identifying clusters, trends, and anomalies in chemical space\n",
    "\n",
    "By mastering exploratory data analysis (EDA), you can make informed decisions about preprocessing and feature selection, spot potential issues before they affect model training, and clearly communicate your results!\n",
    "\n",
    "## Essential Pandas Functions for EDA\n",
    "\n",
    "### Dataset Overview Functions\n",
    "\n",
    "These functions provide the foundation for understanding your dataset:\n",
    "\n",
    "- `DataFrame.info()`: \n",
    "Provides comprehensive metadata about your dataset including column types, non-null counts, and memory usage. Critical for understanding data completeness and identifying columns that need attention.\n",
    "\n",
    "- `DataFrame.describe()`: \n",
    "Generates statistical summaries (mean, std, min, max, quartiles) for the columns. Helps identify the range and distribution of molecular properties in your dataset.\n"
   ]
  },
  {
   "cell_type": "code",
   "execution_count": 18,
   "id": "266a483b",
   "metadata": {},
   "outputs": [],
   "source": [
    "# Import additional libraries for visualization and analysis\n",
    "import matplotlib.pyplot as plt\n",
    "import seaborn as sns\n",
    "\n",
    "# Set up plotting style for better visualizations\n",
    "plt.style.use(\"default\")\n",
    "sns.set_palette(\"husl\")"
   ]
  },
  {
   "cell_type": "code",
   "execution_count": 19,
   "id": "2ec0897a",
   "metadata": {},
   "outputs": [
    {
     "name": "stdout",
     "output_type": "stream",
     "text": [
      "<class 'pandas.core.frame.DataFrame'>\n",
      "RangeIndex: 1480 entries, 0 to 1479\n",
      "Data columns (total 10 columns):\n",
      " #   Column        Non-Null Count  Dtype  \n",
      "---  ------        --------------  -----  \n",
      " 0   smiles        1480 non-null   object \n",
      " 1   FDA_APPROVED  1480 non-null   int64  \n",
      " 2   CT_TOX        1480 non-null   int64  \n",
      " 3   molecule      1480 non-null   object \n",
      " 4   MW            1480 non-null   float64\n",
      " 5   LogP          1480 non-null   float64\n",
      " 6   TPSA          1480 non-null   float64\n",
      " 7   HBD           1480 non-null   int64  \n",
      " 8   HBA           1480 non-null   int64  \n",
      " 9   RotBonds      1480 non-null   int64  \n",
      "dtypes: float64(3), int64(5), object(2)\n",
      "memory usage: 115.8+ KB\n"
     ]
    }
   ],
   "source": [
    "# Check general composition with .info()\n",
    "df_with_descriptors.info()"
   ]
  },
  {
   "cell_type": "code",
   "execution_count": 20,
   "id": "a2d83f5b",
   "metadata": {},
   "outputs": [
    {
     "data": {
      "text/html": [
       "<div>\n",
       "<style scoped>\n",
       "    .dataframe tbody tr th:only-of-type {\n",
       "        vertical-align: middle;\n",
       "    }\n",
       "\n",
       "    .dataframe tbody tr th {\n",
       "        vertical-align: top;\n",
       "    }\n",
       "\n",
       "    .dataframe thead th {\n",
       "        text-align: right;\n",
       "    }\n",
       "</style>\n",
       "<table border=\"1\" class=\"dataframe\">\n",
       "  <thead>\n",
       "    <tr style=\"text-align: right;\">\n",
       "      <th></th>\n",
       "      <th>FDA_APPROVED</th>\n",
       "      <th>CT_TOX</th>\n",
       "      <th>MW</th>\n",
       "      <th>LogP</th>\n",
       "      <th>TPSA</th>\n",
       "      <th>HBD</th>\n",
       "      <th>HBA</th>\n",
       "      <th>RotBonds</th>\n",
       "    </tr>\n",
       "  </thead>\n",
       "  <tbody>\n",
       "    <tr>\n",
       "      <th>count</th>\n",
       "      <td>1480.000000</td>\n",
       "      <td>1480.000000</td>\n",
       "      <td>1480.000000</td>\n",
       "      <td>1480.000000</td>\n",
       "      <td>1480.000000</td>\n",
       "      <td>1480.000000</td>\n",
       "      <td>1480.000000</td>\n",
       "      <td>1480.000000</td>\n",
       "    </tr>\n",
       "    <tr>\n",
       "      <th>mean</th>\n",
       "      <td>0.936486</td>\n",
       "      <td>0.075676</td>\n",
       "      <td>384.491368</td>\n",
       "      <td>1.301971</td>\n",
       "      <td>96.152284</td>\n",
       "      <td>2.241216</td>\n",
       "      <td>5.156757</td>\n",
       "      <td>5.732432</td>\n",
       "    </tr>\n",
       "    <tr>\n",
       "      <th>std</th>\n",
       "      <td>0.243967</td>\n",
       "      <td>0.264568</td>\n",
       "      <td>232.125145</td>\n",
       "      <td>3.150286</td>\n",
       "      <td>90.098806</td>\n",
       "      <td>2.866996</td>\n",
       "      <td>4.382153</td>\n",
       "      <td>5.794663</td>\n",
       "    </tr>\n",
       "    <tr>\n",
       "      <th>min</th>\n",
       "      <td>0.000000</td>\n",
       "      <td>0.000000</td>\n",
       "      <td>27.026000</td>\n",
       "      <td>-19.396500</td>\n",
       "      <td>0.000000</td>\n",
       "      <td>0.000000</td>\n",
       "      <td>0.000000</td>\n",
       "      <td>0.000000</td>\n",
       "    </tr>\n",
       "    <tr>\n",
       "      <th>25%</th>\n",
       "      <td>1.000000</td>\n",
       "      <td>0.000000</td>\n",
       "      <td>254.260250</td>\n",
       "      <td>-0.132525</td>\n",
       "      <td>44.900000</td>\n",
       "      <td>1.000000</td>\n",
       "      <td>2.000000</td>\n",
       "      <td>2.000000</td>\n",
       "    </tr>\n",
       "    <tr>\n",
       "      <th>50%</th>\n",
       "      <td>1.000000</td>\n",
       "      <td>0.000000</td>\n",
       "      <td>336.464000</td>\n",
       "      <td>1.615470</td>\n",
       "      <td>75.625000</td>\n",
       "      <td>2.000000</td>\n",
       "      <td>4.000000</td>\n",
       "      <td>4.000000</td>\n",
       "    </tr>\n",
       "    <tr>\n",
       "      <th>75%</th>\n",
       "      <td>1.000000</td>\n",
       "      <td>0.000000</td>\n",
       "      <td>441.706250</td>\n",
       "      <td>3.147660</td>\n",
       "      <td>113.342500</td>\n",
       "      <td>3.000000</td>\n",
       "      <td>6.250000</td>\n",
       "      <td>7.000000</td>\n",
       "    </tr>\n",
       "    <tr>\n",
       "      <th>max</th>\n",
       "      <td>1.000000</td>\n",
       "      <td>1.000000</td>\n",
       "      <td>1882.332000</td>\n",
       "      <td>12.605800</td>\n",
       "      <td>833.780000</td>\n",
       "      <td>25.000000</td>\n",
       "      <td>51.000000</td>\n",
       "      <td>53.000000</td>\n",
       "    </tr>\n",
       "  </tbody>\n",
       "</table>\n",
       "</div>"
      ],
      "text/plain": [
       "       FDA_APPROVED       CT_TOX           MW         LogP         TPSA  \\\n",
       "count   1480.000000  1480.000000  1480.000000  1480.000000  1480.000000   \n",
       "mean       0.936486     0.075676   384.491368     1.301971    96.152284   \n",
       "std        0.243967     0.264568   232.125145     3.150286    90.098806   \n",
       "min        0.000000     0.000000    27.026000   -19.396500     0.000000   \n",
       "25%        1.000000     0.000000   254.260250    -0.132525    44.900000   \n",
       "50%        1.000000     0.000000   336.464000     1.615470    75.625000   \n",
       "75%        1.000000     0.000000   441.706250     3.147660   113.342500   \n",
       "max        1.000000     1.000000  1882.332000    12.605800   833.780000   \n",
       "\n",
       "               HBD          HBA     RotBonds  \n",
       "count  1480.000000  1480.000000  1480.000000  \n",
       "mean      2.241216     5.156757     5.732432  \n",
       "std       2.866996     4.382153     5.794663  \n",
       "min       0.000000     0.000000     0.000000  \n",
       "25%       1.000000     2.000000     2.000000  \n",
       "50%       2.000000     4.000000     4.000000  \n",
       "75%       3.000000     6.250000     7.000000  \n",
       "max      25.000000    51.000000    53.000000  "
      ]
     },
     "execution_count": 20,
     "metadata": {},
     "output_type": "execute_result"
    }
   ],
   "source": [
    "# Check column statistics with .describe()\n",
    "df_with_descriptors.describe()"
   ]
  },
  {
   "cell_type": "markdown",
   "id": "60c3e922",
   "metadata": {},
   "source": [
    "### Categorical Data Analysis\n",
    "\n",
    "For chemical datasets, categorical variables often include compound classes, activity labels, or experimental conditions.\n",
    "\n",
    "- `DataFrame.value_counts()`: \n",
    "Counts unique values in categorical columns. Essential for understanding class distributions.\n",
    "\n",
    "- `DataFrame.unique()` and `DataFrame.nunique()`: \n",
    "    - `unique()` returns array of unique values\n",
    "    - `nunique()` returns count of unique values\n",
    "    - Useful for understanding diversity and categorical variable complexity\n"
   ]
  },
  {
   "cell_type": "code",
   "execution_count": 21,
   "id": "06d00e02",
   "metadata": {},
   "outputs": [
    {
     "name": "stdout",
     "output_type": "stream",
     "text": [
      "FDA Approval Status Distribution:\n",
      "FDA_APPROVED\n",
      "1    1386\n",
      "0      94\n",
      "Name: count, dtype: int64\n",
      "\n",
      "FDA Approval Status (Percentages):\n",
      "FDA_APPROVED\n",
      "1    93.6\n",
      "0     6.4\n",
      "Name: proportion, dtype: float64\n",
      "\n",
      "Unique values: [1 0]\n",
      "\n",
      "Number of unique values: 2\n"
     ]
    }
   ],
   "source": [
    "# Analyze the FDA_APPROVED column using .value_counts()\n",
    "print(\"FDA Approval Status Distribution:\")\n",
    "fda_counts = df_with_descriptors['FDA_APPROVED'].value_counts()\n",
    "print(fda_counts)\n",
    "    \n",
    "# Calculate percentages\n",
    "fda_percentages = df_with_descriptors['FDA_APPROVED'].value_counts(normalize=True) * 100\n",
    "print(\"\\nFDA Approval Status (Percentages):\")\n",
    "print(fda_percentages.round(1))\n",
    "\n",
    "# Check unique values \n",
    "unique = df_with_descriptors['FDA_APPROVED'].unique()\n",
    "n_unique = df_with_descriptors['FDA_APPROVED'].nunique()\n",
    "print(f\"\\nUnique values: {unique}\")\n",
    "print(f\"\\nNumber of unique values: {n_unique}\")\n"
   ]
  },
  {
   "cell_type": "markdown",
   "id": "8573a908",
   "metadata": {},
   "source": [
    "## Data Visualization\n",
    "\n",
    "Visualization is essential for understanding patterns, distributions, and relationships in chemical data that might not be apparent from summary statistics alone.\n",
    "\n",
    "Let's visualize the data distribution of the molecular descriptors:"
   ]
  },
  {
   "cell_type": "code",
   "execution_count": 22,
   "id": "9fa66d3d",
   "metadata": {},
   "outputs": [
    {
     "data": {
      "image/png": "[encoded data removed]",
      "text/plain": [
       "<Figure size 1500x1000 with 6 Axes>"
      ]
     },
     "metadata": {},
     "output_type": "display_data"
    }
   ],
   "source": [
    "# Create visualizations for molecular descriptors\n",
    "fig, axes = plt.subplots(2, 3, figsize=(15, 10))\n",
    "fig.suptitle('Distribution of Molecular Descriptors', fontsize=16, fontweight='bold')\n",
    "\n",
    "# Define descriptors to plot\n",
    "descriptors_to_plot = ['MW', 'LogP', 'TPSA', 'HBD', 'HBA', 'RotBonds']\n",
    "\n",
    "for i, descriptor in enumerate(descriptors_to_plot):\n",
    "    row = i // 3\n",
    "    col = i % 3\n",
    "    \n",
    "    # Create histogram with density curve\n",
    "    axes[row, col].hist(df_with_descriptors[descriptor], bins=30, alpha=0.7, \n",
    "                       density=True, edgecolor='black', linewidth=0.5)\n",
    "    \n",
    "    # Add statistical information\n",
    "    mean_val = df_with_descriptors[descriptor].mean()\n",
    "    median_val = df_with_descriptors[descriptor].median()\n",
    "    axes[row, col].axvline(mean_val, color='red', linestyle='--', \n",
    "                          label=f'Mean: {mean_val:.2f}')\n",
    "    axes[row, col].axvline(median_val, color='orange', linestyle='--', \n",
    "                          label=f'Median: {median_val:.2f}')\n",
    "    \n",
    "    axes[row, col].set_title(f'{descriptor} Distribution')\n",
    "    axes[row, col].set_xlabel(descriptor)\n",
    "    axes[row, col].set_ylabel('Density')\n",
    "    axes[row, col].legend()\n",
    "    axes[row, col].grid(True, alpha=0.3)\n",
    "\n",
    "plt.tight_layout()\n",
    "plt.show()"
   ]
  },
  {
   "cell_type": "markdown",
   "id": "a15fbc0f",
   "metadata": {},
   "source": [
    "### Correlation Analysis\n",
    "\n",
    "`DataFrame.corr()` is a useful function for this, it calculates pairwise correlation coefficients between numerical columns. This is essential for understanding which descriptors are related and might provide redundant information.\n"
   ]
  },
  {
   "cell_type": "code",
   "execution_count": 23,
   "id": "985b1abf",
   "metadata": {},
   "outputs": [
    {
     "name": "stdout",
     "output_type": "stream",
     "text": [
      "Correlation Matrix for Molecular Descriptors:\n",
      "             MW   LogP   TPSA    HBD    HBA  RotBonds\n",
      "MW        1.000 -0.030  0.791  0.688  0.764     0.745\n",
      "LogP     -0.030  1.000 -0.527 -0.498 -0.381    -0.101\n",
      "TPSA      0.791 -0.527  1.000  0.850  0.899     0.655\n",
      "HBD       0.688 -0.498  0.850  1.000  0.637     0.582\n",
      "HBA       0.764 -0.381  0.899  0.637  1.000     0.581\n",
      "RotBonds  0.745 -0.101  0.655  0.582  0.581     1.000\n"
     ]
    },
    {
     "data": {
      "image/png": "[encoded data removed]",
      "text/plain": [
       "<Figure size 1000x800 with 2 Axes>"
      ]
     },
     "metadata": {},
     "output_type": "display_data"
    }
   ],
   "source": [
    "# Calculate correlation matrix for molecular descriptors\n",
    "descriptor_cols = ['MW', 'LogP', 'TPSA', 'HBD', 'HBA', 'RotBonds']\n",
    "\n",
    "# Calculate correlation matrix using .corr()\n",
    "correlation_matrix = df_with_descriptors[descriptor_cols].corr()\n",
    "\n",
    "# Display correlation matrix\n",
    "print(\"Correlation Matrix for Molecular Descriptors:\")\n",
    "print(correlation_matrix.round(3))\n",
    "\n",
    "# Create correlation heatmap\n",
    "plt.figure(figsize=(10, 8))\n",
    "\n",
    "# Use seaborn for a more informative heatmap\n",
    "mask = np.triu(np.ones_like(correlation_matrix, dtype=bool))  # Mask upper triangle\n",
    "sns.heatmap(correlation_matrix, \n",
    "            mask=mask,\n",
    "            annot=True, \n",
    "            cmap='coolwarm', \n",
    "            center=0,\n",
    "            square=True,\n",
    "            fmt='.3f',\n",
    "            cbar_kws={'label': 'Correlation Coefficient'})\n",
    "\n",
    "plt.title('Molecular Descriptor Correlation Heatmap', fontweight='bold', pad=20)\n",
    "plt.tight_layout()\n",
    "plt.show()"
   ]
  },
  {
   "cell_type": "markdown",
   "id": "1cf29e91",
   "metadata": {},
   "source": [
    "### Filtering Data\n",
    "\n",
    "- `loc[]`: enables **label-based** indexing and conditional filtering of rows.  \n",
    "- `iloc[]`: provides **integer-based** indexing, letting you select rows or columns by their numeric position.\n",
    "\n",
    "Below we filter molecules that satisfy **Lipinski’s Rule of Five**, a common guideline for drug-likeness:\n",
    "\n",
    "- Molecular weight (MW) ≤ 500  \n",
    "- LogP (octanol–water partition coefficient) ≤ 5  \n",
    "- Hydrogen bond donors (HBD) ≤ 5  \n",
    "- Hydrogen bond acceptors (HBA) ≤ 10    "
   ]
  },
  {
   "cell_type": "code",
   "execution_count": 24,
   "id": "cf112e0d",
   "metadata": {},
   "outputs": [
    {
     "name": "stdout",
     "output_type": "stream",
     "text": [
      "Lipinski Rule of Five Analysis:\n",
      "Total molecules: 1480\n",
      "Lipinski compliant: 1121 (75.7%)\n",
      "FDA approval rate (all molecules): 93.6%\n",
      "FDA approval rate (Lipinski compliant): 94.8%\n",
      "\n",
      "First 5 rows and first 3 columns of Lipinski-compliant DataFrame:\n"
     ]
    },
    {
     "data": {
      "text/html": [
       "<div>\n",
       "<style scoped>\n",
       "    .dataframe tbody tr th:only-of-type {\n",
       "        vertical-align: middle;\n",
       "    }\n",
       "\n",
       "    .dataframe tbody tr th {\n",
       "        vertical-align: top;\n",
       "    }\n",
       "\n",
       "    .dataframe thead th {\n",
       "        text-align: right;\n",
       "    }\n",
       "</style>\n",
       "<table border=\"1\" class=\"dataframe\">\n",
       "  <thead>\n",
       "    <tr style=\"text-align: right;\">\n",
       "      <th></th>\n",
       "      <th>smiles</th>\n",
       "      <th>FDA_APPROVED</th>\n",
       "      <th>CT_TOX</th>\n",
       "    </tr>\n",
       "  </thead>\n",
       "  <tbody>\n",
       "    <tr>\n",
       "      <th>0</th>\n",
       "      <td>C(=O)[C@H](CCCCNC(=O)OCCOC)NC(=O)OCCOC</td>\n",
       "      <td>1</td>\n",
       "      <td>0</td>\n",
       "    </tr>\n",
       "    <tr>\n",
       "      <th>1</th>\n",
       "      <td>[C@@H]1([C@@H]([C@@H]([C@H]([C@@H]([C@@H]1Cl)C...</td>\n",
       "      <td>1</td>\n",
       "      <td>0</td>\n",
       "    </tr>\n",
       "    <tr>\n",
       "      <th>2</th>\n",
       "      <td>[C@H]([C@@H]([C@@H](C(=O)[O-])O)O)([C@H](C(=O)...</td>\n",
       "      <td>1</td>\n",
       "      <td>0</td>\n",
       "    </tr>\n",
       "    <tr>\n",
       "      <th>3</th>\n",
       "      <td>[H]/[NH+]=C(/C1=CC(=O)/C(=C\\C=c2ccc(=C([NH3+])...</td>\n",
       "      <td>1</td>\n",
       "      <td>0</td>\n",
       "    </tr>\n",
       "    <tr>\n",
       "      <th>4</th>\n",
       "      <td>[H]/[NH+]=C(\\N)/c1ccc(cc1)OCCCCCOc2ccc(cc2)/C(...</td>\n",
       "      <td>1</td>\n",
       "      <td>0</td>\n",
       "    </tr>\n",
       "  </tbody>\n",
       "</table>\n",
       "</div>"
      ],
      "text/plain": [
       "                                              smiles  FDA_APPROVED  CT_TOX\n",
       "0             C(=O)[C@H](CCCCNC(=O)OCCOC)NC(=O)OCCOC             1       0\n",
       "1  [C@@H]1([C@@H]([C@@H]([C@H]([C@@H]([C@@H]1Cl)C...             1       0\n",
       "2  [C@H]([C@@H]([C@@H](C(=O)[O-])O)O)([C@H](C(=O)...             1       0\n",
       "3  [H]/[NH+]=C(/C1=CC(=O)/C(=C\\C=c2ccc(=C([NH3+])...             1       0\n",
       "4  [H]/[NH+]=C(\\N)/c1ccc(cc1)OCCCCCOc2ccc(cc2)/C(...             1       0"
      ]
     },
     "execution_count": 24,
     "metadata": {},
     "output_type": "execute_result"
    }
   ],
   "source": [
    "# Filter rows with loc[]\n",
    "lipinski_compliant = df_with_descriptors.loc[\n",
    "    (df_with_descriptors['MW'] <= 500) &\n",
    "    (df_with_descriptors['LogP'] <= 5) &\n",
    "    (df_with_descriptors['HBD'] <= 5) &\n",
    "    (df_with_descriptors['HBA'] <= 10)\n",
    "]\n",
    "\n",
    "print(f\"Lipinski Rule of Five Analysis:\")\n",
    "print(f\"Total molecules: {len(df_with_descriptors)}\")\n",
    "print(f\"Lipinski compliant: {len(lipinski_compliant)} \"\n",
    "      f\"({len(lipinski_compliant) / len(df_with_descriptors) * 100:.1f}%)\")\n",
    "\n",
    "# Compare FDA approval rates\n",
    "total_approved_rate = df_with_descriptors['FDA_APPROVED'].mean() * 100\n",
    "lipinski_approved_rate = lipinski_compliant['FDA_APPROVED'].mean() * 100\n",
    "\n",
    "print(f\"FDA approval rate (all molecules): {total_approved_rate:.1f}%\")\n",
    "print(f\"FDA approval rate (Lipinski compliant): {lipinski_approved_rate:.1f}%\")\n",
    "\n",
    "# Example for iloc: select the first 5 rows and the first 3 columns of the filtered set\n",
    "print(\"\\nFirst 5 rows and first 3 columns of Lipinski-compliant DataFrame:\")\n",
    "lipinski_compliant.iloc[:5, :3]"
   ]
  },
  {
   "cell_type": "markdown",
   "id": "231bb168",
   "metadata": {},
   "source": [
    "### Mini Exercise 3\n",
    "\n",
    "Now it's your turn to practice EDA skills with the ClinTox dataset!\n",
    "\n",
    "1. **Analyze CT_TOX column:**\n",
    "   - Use `.value_counts()` to see the distribution of the CT_TOX column\n",
    "   - Calculate what percentage of molecules are toxic\n",
    "   - Compare this to the FDA_APPROVED distribution - what do you notice?\n",
    "\n",
    "2. **Create a new visualization:**\n",
    "   - Make a scatter plot of LogP vs TPSA\n",
    "   - Color the points by FDA_APPROVED status (use red for not approved, blue for approved)\n",
    "   - Add appropriate labels and title\n",
    "   - What patterns do you observe? Do approved drugs cluster in certain regions?\n",
    "\n",
    "3. **Filtering practice:**\n",
    "   - Create a filter for \"small molecules\" (MW < 300)\n",
    "   - How many small molecules are in the dataset?\n",
    "   - What's the FDA approval rate for small molecules vs larger molecules?\n",
    "   - Use `.describe()` to compare the descriptor statistics between small and large molecules\n"
   ]
  },
  {
   "cell_type": "code",
   "execution_count": 25,
   "id": "f9430bc7",
   "metadata": {},
   "outputs": [],
   "source": [
    "# Exercise 3 solution space\n"
   ]
  },
  {
   "cell_type": "markdown",
   "id": "7835af33",
   "metadata": {},
   "source": [
    "# 7. Molecular Featurization\n",
    "\n",
    "**Molecular featurization** is the process of converting molecular structures into numerical vectors (feature vectors) that machine learning algorithms can process, while preserving important chemical information.\n",
    "\n",
    "We've already explored the main categories:\n",
    "\n",
    "1. **Molecular Descriptors** (Section 3): Numerical properties like MW, LogP, TPSA\n",
    "   - Capture global molecular properties\n",
    "   - Directly interpretable \n",
    "   - Usually 10-200 features\n",
    "\n",
    "2. **Molecular Fingerprints** (Section 4): Binary vectors encoding structural patterns\n",
    "   - Capture local structural environments\n",
    "   - High-dimensional (1024-4096 bits)\n",
    "   - Excellent for similarity comparisons\n",
    "\n",
    "Now that we've mastered the use of pandas (Section 5) we can proceed to feature vector construction. Let's get the Morgan fingerprints of the ClinTox dataset."
   ]
  },
  {
   "cell_type": "code",
   "execution_count": 26,
   "id": "e644b2d2",
   "metadata": {},
   "outputs": [
    {
     "name": "stdout",
     "output_type": "stream",
     "text": [
      "Dataframe of fingerprints shape: (1480, 1024)\n",
      "First molecule has 35 bits set out of 1024\n"
     ]
    }
   ],
   "source": [
    "morgan_gen = rdFingerprintGenerator.GetMorganGenerator(radius=2, fpSize=1024)\n",
    "\n",
    "# Generate fingerprints for all molecules\n",
    "fingerprints = []\n",
    "for mol in df_with_descriptors['molecule']:\n",
    "    fp = morgan_gen.GetFingerprint(mol)\n",
    "    fingerprints.append(fp.ToList())\n",
    "    \n",
    "# Convert to DataFrame with indexed column names\n",
    "fp_columns = [f'Morgan_bit_{i}' for i in range(1024)]\n",
    "fingerprint_df = pd.DataFrame(fingerprints, columns=fp_columns, index=df_with_descriptors.index)\n",
    "\n",
    "print(f\"Dataframe of fingerprints shape: {fingerprint_df.shape}\")\n",
    "print(f\"First molecule has {sum(fingerprints[0])} bits set out of 1024\")"
   ]
  },
  {
   "cell_type": "markdown",
   "id": "d289e73c",
   "metadata": {},
   "source": [
    "### Mini Exercise 4: \n",
    "\n",
    " **Compare Similar Molecules:**\n",
    "   - Select 10  molecules from the dataset (any indices you choose)\n",
    "   - Calculate their Tanimoto similarity using their Morgan fingerprints\n",
    "   - Create a similarity matrix and identify which pair is most similar\n"
   ]
  },
  {
   "cell_type": "code",
   "execution_count": 27,
   "id": "f083c06e",
   "metadata": {},
   "outputs": [],
   "source": [
    "# Exercise 4 Solution Space\n"
   ]
  }
 ],
 "metadata": {
  "kernelspec": {
   "display_name": "Python 3",
   "language": "python",
   "name": "python3"
  },
  "language_info": {
   "codemirror_mode": {
    "name": "ipython",
    "version": 3
   },
   "file_extension": ".py",
   "mimetype": "text/x-python",
   "name": "python",
   "nbconvert_exporter": "python",
   "pygments_lexer": "ipython3",
   "version": "3.10.17"
  }
 },
 "nbformat": 4,
 "nbformat_minor": 5
}
